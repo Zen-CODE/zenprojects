{
 "cells": [
  {
   "cell_type": "markdown",
   "metadata": {},
   "source": [
    "# Personal Manifesto\n",
    "<img src=\"Personal Manifesto/Y4_Large_reduc.jpg\" align=\"right\" width=\"100\" height=\"100\" />\n"
   ]
  },
  {
   "cell_type": "markdown",
   "metadata": {},
   "source": [
    "## Introduction\n",
    "\n",
    "This document contains a personal manifesto that declares the principles according to which I, Richard Larkin, will endeavor to conduct my life. They will form the basis on all my thoughts, actions, and aspirations. They shall constitute the underlying ethical fabric according to which I live."
   ]
  },
  {
   "cell_type": "markdown",
   "metadata": {},
   "source": [
    "## Manifesto\n",
    "\n",
    "I shall aspire to be:\n",
    "\n",
    "- **Kind and compassionate**.<br/>\n",
    "  I shall treat others with consideration, respect and courtesy.\n",
    "\n",
    "- **Fair and honest**.<br/>\n",
    "  I shall consider the needs and desires of others as equal to my own.\n",
    "\n",
    "- **Wise and humble**.<br/>\n",
    "  My words and deeds shall be thoughtful, insightful and intelligent, yet free of pride, ego or arrogance.\n",
    "\n",
    "- **Strong and centered**.<br/>\n",
    "  My actions shall convey the a sense personal power and self mastery. I do not seek external affirmation or confirmation from others but am guided my my own moral compass.\n",
    "\n",
    "- **Friendly and open**<br/>\n",
    "  I shall be warm, caring and candid in all my interactions with others.\n",
    "\n",
    "- **Curious and playful**<br/>\n",
    "  I shall be interested, fun loving and passionate in acting out my authentic nature.\n",
    "\n",
    "- **Focused and determined**.<br/>\n",
    "  I shall be disciplined, steadfast and committed to achieving my goals and all things I strive for.\n",
    "\n",
    "- **Industrious and orderly**.<br/>\n",
    "  I shall work hard, diligently and effectively for that which I value.\n",
    "\n",
    "- **Positive and light-hearted**.<br/>\n",
    "  I maintain an uplifting and inspired disposition that holds humor and humility as an essential ingredient for a balanced and fulfilling life.\n",
    "\n",
    "- **Generous and helpful**.<br/>\n",
    "  I shall give freely and openly to those in need, endeavoring to help and uplift those in my family and community."
   ]
  },
  {
   "cell_type": "markdown",
   "metadata": {},
   "source": []
  }
 ],
 "metadata": {
  "kernelspec": {
   "display_name": "Python 3",
   "language": "python",
   "name": "python3"
  },
  "language_info": {
   "codemirror_mode": {
    "name": "ipython",
    "version": 3
   },
   "file_extension": ".py",
   "mimetype": "text/x-python",
   "name": "python",
   "nbconvert_exporter": "python",
   "pygments_lexer": "ipython3",
   "version": "3.6.6"
  },
  "toc": {
   "base_numbering": 1,
   "nav_menu": {},
   "number_sections": false,
   "sideBar": true,
   "skip_h1_title": false,
   "title_cell": "Table of Contents",
   "title_sidebar": "Contents",
   "toc_cell": false,
   "toc_position": {},
   "toc_section_display": true,
   "toc_window_display": false
  }
 },
 "nbformat": 4,
 "nbformat_minor": 2
}
