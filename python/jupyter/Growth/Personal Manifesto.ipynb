{
 "cells": [
  {
   "cell_type": "markdown",
   "metadata": {},
   "source": [
    "# Personal Manifesto"
   ]
  },
  {
   "cell_type": "markdown",
   "metadata": {},
   "source": [
    "## Introduction\n",
    "\n",
    "This document contains a personal manifesto that declares the principles according to which I, Richard Larkin, will endeavor to conduct my life. They will form the basis on all thoughts, actions, and aspirations are based, and therefore constitute the underlying ethical fabric according to which I will operate.\n",
    "\n",
    "By recording and formalizing these principles, I commit to upholding them and hold myself accountable for manifesting them in thought and deed. This document will serve as a reminder in times of difficulty and confusion, and help ensure that my life is guided by wisdom, compassion and consideration."
   ]
  },
  {
   "cell_type": "markdown",
   "metadata": {},
   "source": [
    "## Manifesto\n",
    "\n",
    "This manifesto outlines the principles that shall govern my behavior, thoughts and actions. We shall start by outlining these principles in abstract, and then give them concrete form by exactly how the roles I play shall be governed by them.\n"
   ]
  },
  {
   "cell_type": "markdown",
   "metadata": {},
   "source": [
    "## Abstract\n",
    "\n",
    "I shall aspire to be:\n",
    "\n",
    "- **Kind and compassionate**.<br/>\n",
    "  I shall always treat others with consideration, respect and courtesy.\n",
    "- **Fair and honest**.<br/>\n",
    "  I shall consider the needs and desires of others as equal to my own.\n",
    "- **Wise and insightful**.<br/>\n",
    "  My words and deeds shall be thoughtful, careful and intelligent, but without pride, ego or arrogance.\n",
    "- **Strong and centered**.<br/>\n",
    "  My actions shall convey the a sense personal power and self mastery. I do not seek external affirmation or confirmation from others.\n",
    "- **Friendly and open**<br/>\n",
    "  I shall be warm, caring and candid in all my interactions with others.\n",
    "- **Curious and playful**<br/>\n",
    "  I shall be interested, fun loving and passionate.\n",
    "- **Focused and determined**.<br/>\n",
    "  I am disciplined, steadfast and committed to achieving my goals.\n",
    "- **Industrious and brave**.<br/>\n",
    "  I work hard, diligently and fearlessly for that which I value.\n",
    "- **Positive and light-hearted**.<br/>\n",
    "  I maintain an uplifting and inspired disposition that holds humor and humility as an essential ingredient of a balanced perspective.\n",
    "- **Generous and helpful**.<br/>\n",
    "  I shall give freely and openly to those in need, endeavoring to help and uplift those whom I can."
   ]
  }
 ],
 "metadata": {
  "kernelspec": {
   "display_name": "Python 3",
   "language": "python",
   "name": "python3"
  },
  "language_info": {
   "codemirror_mode": {
    "name": "ipython",
    "version": 3
   },
   "file_extension": ".py",
   "mimetype": "text/x-python",
   "name": "python",
   "nbconvert_exporter": "python",
   "pygments_lexer": "ipython3",
   "version": "3.6.6"
  },
  "toc": {
   "base_numbering": 1,
   "nav_menu": {},
   "number_sections": false,
   "sideBar": true,
   "skip_h1_title": false,
   "title_cell": "Table of Contents",
   "title_sidebar": "Contents",
   "toc_cell": false,
   "toc_position": {},
   "toc_section_display": true,
   "toc_window_display": false
  }
 },
 "nbformat": 4,
 "nbformat_minor": 2
}
