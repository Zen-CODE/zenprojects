{
 "cells": [
  {
   "cell_type": "markdown",
   "metadata": {},
   "source": [
    "# Goals\n",
    "<img src=\"Manifesto/Y4_Large_reduc.jpg\" align=\"right\" width=\"64\" height=\"64\" />"
   ]
  },
  {
   "cell_type": "markdown",
   "metadata": {},
   "source": [
    "# Introduction\n",
    "\n",
    "This notebook contains my long term and short term goals and aspirations. By writing them out and declaring them real, I commit to moving towards in consistent and methodical manner.\n",
    "\n",
    "This is a living document and is written to be continually revised, contemplated, expanded and modified. It is a vision of the future self.\n"
   ]
  },
  {
   "cell_type": "markdown",
   "metadata": {},
   "source": [
    "# Goals in Principle\n",
    "\n",
    "My long term goals can be divided up into four categories. These categories help \n",
    "us ensure that our goals and ambitions move us towards a balanced and holistic endpoint. All of these aspects are important to ensure success and maintainability."
   ]
  },
  {
   "cell_type": "markdown",
   "metadata": {},
   "source": [
    "\n",
    "## Mental\n",
    "\n",
    "I strive to be:\n",
    "\n",
    "- Alert, present and considerate in my interactions\n",
    "- Fast, fluid and flexible in my thinking\n",
    "- Conscious, careful and accurate in my actions"
   ]
  },
  {
   "cell_type": "markdown",
   "metadata": {},
   "source": [
    "## Physical\n",
    "\n",
    "I ensure that I am:\n",
    "\n",
    "- Fit, lean and strong\n",
    "- Clean, orderly and tidy\n",
    "- Healthy, active and moderate\n"
   ]
  },
  {
   "cell_type": "markdown",
   "metadata": {},
   "source": [
    "## Spiritual\n",
    "\n",
    "I aim to be:\n",
    "\n",
    "- Kind, considerate and compassionate\n",
    "- Wise, thoughtful and insightful\n",
    "- Selfless, altruistic and meaning oriented"
   ]
  },
  {
   "cell_type": "markdown",
   "metadata": {},
   "source": [
    "## Social and Emotional\n",
    "\n",
    "I aspire to be:\n",
    "\n",
    "- Considerate, caring and compassionate\n",
    "- Open, attentive and receptive\n",
    "- Respectful, thoughtful and humorous"
   ]
  }
 ],
 "metadata": {
  "kernelspec": {
   "display_name": "Python 3",
   "language": "python",
   "name": "python3"
  },
  "language_info": {
   "codemirror_mode": {
    "name": "ipython",
    "version": 3
   },
   "file_extension": ".py",
   "mimetype": "text/x-python",
   "name": "python",
   "nbconvert_exporter": "python",
   "pygments_lexer": "ipython3",
   "version": "3.6.6"
  },
  "toc": {
   "base_numbering": 1,
   "nav_menu": {},
   "number_sections": false,
   "sideBar": true,
   "skip_h1_title": false,
   "title_cell": "Table of Contents",
   "title_sidebar": "Contents",
   "toc_cell": false,
   "toc_position": {},
   "toc_section_display": true,
   "toc_window_display": false
  }
 },
 "nbformat": 4,
 "nbformat_minor": 2
}
