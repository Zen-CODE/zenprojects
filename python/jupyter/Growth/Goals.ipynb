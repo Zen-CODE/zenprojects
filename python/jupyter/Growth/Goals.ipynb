{
 "cells": [
  {
   "cell_type": "markdown",
   "metadata": {},
   "source": [
    "# Goals\n",
    "<img src=\"Manifesto/Y4_Large_reduc.jpg\" align=\"right\" width=\"64\" height=\"64\" />"
   ]
  },
  {
   "cell_type": "markdown",
   "metadata": {},
   "source": [
    "# Introduction\n",
    "\n",
    "This notebook contains my long term and short term goals and aspirations. By writing them out and declaring them real, I commit to moving towards in consistent and methodical manner.\n",
    "\n",
    "This is a living document and is written to be continually revised, contemplated, expanded and modified. It is a vision of the future self.\n"
   ]
  },
  {
   "cell_type": "markdown",
   "metadata": {},
   "source": [
    "# Goals in Principle\n",
    "\n",
    "My long term goals can be divided up into four categories. These categories help \n",
    "us ensure that our goals and ambitions move us towards a balanced and holistic endpoint. All of these aspects are important to ensure success and maintainability."
   ]
  },
  {
   "cell_type": "markdown",
   "metadata": {},
   "source": [
    "## Mental\n",
    "\n",
    "I strive to be:\n",
    "\n",
    "- Alert, present and considerate in my interactions\n",
    "- Fast, fluid and flexible in my thinking\n",
    "- Conscious, careful and accurate in my actions"
   ]
  },
  {
   "cell_type": "markdown",
   "metadata": {},
   "source": [
    "## Physical\n",
    "\n",
    "I ensure that I am:\n",
    "\n",
    "- Fit, lean and strong\n",
    "- Clean, orderly and tidy\n",
    "- Healthy, active and moderate\n"
   ]
  },
  {
   "cell_type": "markdown",
   "metadata": {},
   "source": [
    "## Spiritual\n",
    "\n",
    "I aim to be:\n",
    "\n",
    "- Kind, considerate and compassionate\n",
    "- Wise, thoughtful and insightful\n",
    "- Selfless, altruistic and meaning oriented"
   ]
  },
  {
   "cell_type": "markdown",
   "metadata": {},
   "source": [
    "## Social and Emotional\n",
    "\n",
    "I aspire to be:\n",
    "\n",
    "- Considerate, caring and compassionate\n",
    "- Open, attentive and receptive\n",
    "- Respectful, thoughtful and humorous"
   ]
  },
  {
   "cell_type": "markdown",
   "metadata": {},
   "source": [
    "# Short Term Goals\n",
    "\n",
    "These goals focus an providing smaller, more achievable goals with the aim of giving a concrete and achievable path of our long term goals."
   ]
  },
  {
   "cell_type": "markdown",
   "metadata": {},
   "source": [
    "# Long Term Goals\n",
    "\n",
    "I aim to:\n",
    "\n",
    "## Professional\n",
    "\n",
    "- Lead a team of developers in building a highly praised and widely used education software product.\n",
    "- Be an active and well respected core developer for the Open Source Kivy project.\n",
    "- Be a respected and valued authority on the Python programming language and the Kivy framework.\n",
    "- Helping setup and drive multiple CAMI EduCentres, schools and classrooms using and running CAMI Speedtest competitions and events.\n",
    "\n",
    "## Hobbies and Community Involvement\n",
    "\n",
    "My goals include:\n",
    "\n",
    "- Fold and decorate my house with an epic origami collection.\n",
    "- Hold regular Origami-EQ events. These will focus of teaching Social and Emotional Learning competencies via the study of nature and extraction of life lessons from the behaviour of animals.\n",
    "- Be an active and valuable member of a non-profit, community upliftment program helping under-privileged children.\n",
    "\n",
    "## Social\n",
    "\n",
    "- Have a wide circle of friends and acquaintances from all walks of life.\n",
    "- Have a strong emotionally and mentally rewarding relationship with an attractive woman.\n",
    "- Have a easy going, warm, friendly, humble and respectful disposition.\n",
    "\n",
    "## Financial\n",
    "\n",
    "- Own my house\n",
    "- Own good overseas investments.\n",
    "- Have a generous regular income that easily exceeds my expenses.\n"
   ]
  }
 ],
 "metadata": {
  "kernelspec": {
   "display_name": "Python 3",
   "language": "python",
   "name": "python3"
  },
  "language_info": {
   "codemirror_mode": {
    "name": "ipython",
    "version": 3
   },
   "file_extension": ".py",
   "mimetype": "text/x-python",
   "name": "python",
   "nbconvert_exporter": "python",
   "pygments_lexer": "ipython3",
   "version": "3.6.6"
  },
  "toc": {
   "base_numbering": 1,
   "nav_menu": {},
   "number_sections": false,
   "sideBar": true,
   "skip_h1_title": false,
   "title_cell": "Table of Contents",
   "title_sidebar": "Contents",
   "toc_cell": false,
   "toc_position": {},
   "toc_section_display": true,
   "toc_window_display": false
  }
 },
 "nbformat": 4,
 "nbformat_minor": 2
}
