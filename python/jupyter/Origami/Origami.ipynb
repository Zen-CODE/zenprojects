{
 "cells": [
  {
   "cell_type": "markdown",
   "metadata": {},
   "source": [
    "## Origami\n",
    "<img src=\"Origami/butterfly.jpg\" align=\"right\" width=\"150\" height=\"150\" />\n",
    "\n",
    "We have some crazy ideas about building up a repertoire of origami notebooks. So crazy it might even be fun..:-)\n",
    "\n",
    "* <a href=\"Origami/Penguin/Penguin.ipynb\">The Penguin</a>"
   ]
  },
  {
   "cell_type": "markdown",
   "metadata": {},
   "source": [
    "# Origami as Metaphor\n",
    "<img src=\"Origami/bat.jpg\" align=\"right\" width=\"150\" height=\"150\" />\n",
    "\n",
    "Just as our thoughts shape our actions and thereby transforms our world, so folding shapes paper and transforms squares into models. As actions manifest consequences, so folding manifests art.\n",
    "\n",
    "Just as we can choose our goals move towards then by considered action, so we can choose our models and move towards them by folding"
   ]
  },
  {
   "cell_type": "markdown",
   "metadata": {},
   "source": [
    "# Zorigami\n",
    "\n",
    "From CASEL, we adapt the 5 main Social and Emotional Learning (SEL) Competencies. We distill each of these down into a trinity of guiding principles.\n",
    "\n",
    "* Self Awareness\n",
    "  - Identifying - emotions, thoughts and values\n",
    "  - Perceiving - identifying personal strengths and limitations\n",
    "  - Acting - with confidence, optimism (a \"growth mindset\") and efficacy\n",
    "\n",
    "* Self Management\n",
    "  - Managing  - impulses, stressors and reactions to stimuli\n",
    "  - Orienting - towards personal, academic and environmental goals\n",
    "  - Acting - organizing and structuring behaviour towards goals (self-discipline)\n",
    "  \n",
    "* Social Awareness\n",
    "  - Observe - recognize perspectives of others and empathize\n",
    "  - Understand - social and ethical norms, motivations and values\n",
    "  - Incorporate - respect, acknowledge, interpret\n",
    "  \n",
    "* Relationship Skills\n",
    "  - Listen - resist projecting, conflict and control\n",
    "  - Engage - seeking agreement, consensus, understanding \n",
    "  - Co-operate - communicate and absorb knowledge, help and direction\n",
    "  \n",
    "* Responsible Decision Making\n",
    "  - Identify - problems, obstacles, possible actions and desired outcomes\n",
    "  - Analyze - challenges, risks, barriers and possible outcomes\n",
    "  - Solve - balancing personal and group needs and responsibilities\n"
   ]
  }
 ],
 "metadata": {
  "kernelspec": {
   "display_name": "Python 3",
   "language": "python",
   "name": "python3"
  },
  "language_info": {
   "codemirror_mode": {
    "name": "ipython",
    "version": 3
   },
   "file_extension": ".py",
   "mimetype": "text/x-python",
   "name": "python",
   "nbconvert_exporter": "python",
   "pygments_lexer": "ipython3",
   "version": "3.6.6"
  },
  "toc": {
   "base_numbering": 1,
   "nav_menu": {},
   "number_sections": false,
   "sideBar": true,
   "skip_h1_title": false,
   "title_cell": "Table of Contents",
   "title_sidebar": "Contents",
   "toc_cell": false,
   "toc_position": {
    "height": "calc(100% - 180px)",
    "left": "10px",
    "top": "150px",
    "width": "230.391px"
   },
   "toc_section_display": true,
   "toc_window_display": true
  }
 },
 "nbformat": 4,
 "nbformat_minor": 2
}
