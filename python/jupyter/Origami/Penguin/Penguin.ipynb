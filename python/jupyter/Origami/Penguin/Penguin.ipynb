{
 "cells": [
  {
   "cell_type": "markdown",
   "metadata": {},
   "source": [
    "<img src=\"Images/Penguins.jpg\" align=\"right\" width=\"150\" height=\"120\" hspace=\"25\"/>\n",
    "# The Penguin\n",
    "\n",
    "The Penguin is one of the easiest origami models to make. It's only about 5 folds, but it is still a really satisfying and beautiful model. And Penguins are just so damn cute, you gotta love em!\n"
   ]
  },
  {
   "cell_type": "markdown",
   "metadata": {},
   "source": [
    "# Technical\n",
    "\n",
    "* Rating: Easy\n",
    "* Number of folds: 6\n",
    "* Paper size: Square\n",
    "* Special requirements: Differently coloured sides\n"
   ]
  },
  {
   "cell_type": "markdown",
   "metadata": {},
   "source": [
    "# Machine\n",
    "\n",
    "This machine carries the \"Smiley Red Bat\" sticker.\n",
    "\n",
    "* Intel Pentium Dual Core @2.6 Ghz\n",
    "* 4 GB Ram\n",
    "* 500 GB Hard Disk\n",
    "* DVD RW\n",
    "* Xubuntu 16.04"
   ]
  },
  {
   "cell_type": "markdown",
   "metadata": {},
   "source": [
    "# External Resources\n",
    "\n",
    "* Folding instructions: https://www.wikihow.com/Fold-a-Paper-Penguin\n"
   ]
  }
 ],
 "metadata": {
  "kernelspec": {
   "display_name": "Python 3",
   "language": "python",
   "name": "python3"
  },
  "language_info": {
   "codemirror_mode": {
    "name": "ipython",
    "version": 3
   },
   "file_extension": ".py",
   "mimetype": "text/x-python",
   "name": "python",
   "nbconvert_exporter": "python",
   "pygments_lexer": "ipython3",
   "version": "3.6.5"
  }
 },
 "nbformat": 4,
 "nbformat_minor": 2
}
