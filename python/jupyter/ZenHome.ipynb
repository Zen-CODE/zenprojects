{
 "cells": [
  {
   "cell_type": "markdown",
   "metadata": {},
   "source": [
    "<img src=\"images/origami_bird.jpg\" align=\"right\" width=\"150\" height=\"150\" />\n",
    "\n",
    "# ZenHome\n",
    "\n",
    "Welcome to ZenCODE's home. Where there is always orgami...:-)"
   ]
  },
  {
   "cell_type": "markdown",
   "metadata": {},
   "source": [
    "## Origami\n",
    "\n",
    "We have some crazy ideas about building up a repertoire of origami notebooks. So crazy it might even be fun..:-)\n",
    "\n",
    "* <a href=\"Origami/Penguin/Penguin.ipynb\">The Penguin</a>\n"
   ]
  },
  {
   "cell_type": "markdown",
   "metadata": {},
   "source": [
    "# Origami as Metaphor\n",
    "\n",
    "Just as our thoughts shape our actions and therby transforms our world, so folding shapes paper and transforms squares into models. As actions manifest consequences, so folding maifest art.\n",
    "\n",
    "Just as we can choose our goals move towards then by considered action, so we can choose our models and move towards them by folding"
   ]
  },
  {
   "cell_type": "markdown",
   "metadata": {},
   "source": [
    "# Zorigami\n",
    "\n",
    "From CASEL, we adapt the 5 main Social and Emotional Learning (SEL) Competencies. We distil each of these down into a trinity of guiding principles.\n",
    "\n",
    "* Self Awareness\n",
    "  - Identifying - emotions, thoughts and values\n",
    "  - Perceiving - identifying personal strengths and limitations\n",
    "  - Acting - with confidence, optimism (a \"growth mindset\") and efficacy\n",
    "\n",
    "* Self Management\n",
    "  - Managing  - impulses, stressors and reactions to stimuli\n",
    "  - Orienting - towards personal, academic and environmental goals\n",
    "  - Acting - organizing and structuring behaviour towards goals (self-dicipline)\n",
    "  \n",
    "* Social Awareness\n",
    "  - Observe - recognize perpectives of others and empathize\n",
    "  - Underdstand - social and ethical norms, motivations and values\n",
    "  - Incoporate - respect, ackowledge, interpret\n",
    "  \n",
    "* Relationship Skills\n",
    "  - Listen - resist projecting, conflict ond control\n",
    "  - Engage - seeking agreement, consensus, understading \n",
    "  - Co-operate - communicate and absorb knowledge, help and direction\n",
    "  \n",
    "* Responsible Decision Making\n",
    "  - Identify - problems, obstacles, possible actions and desired outcomes\n",
    "  - Analyze - challenges, risks, barriers and possible outcomes\n",
    "  - Solve - balancing personal and group needs and responsibilities\n",
    "\n"
   ]
  },
  {
   "cell_type": "markdown",
   "metadata": {},
   "source": [
    "<img src=\"images/butterfly.jpg\" align=\"right\" width=\"150\" height=\"150\" />\n",
    "##  Common Links\n",
    "* Personal:\n",
    "  <a href=\"https://gmail.com\">GMail</a>, <a href=\"https://web.whatsapp.com/\">WhatsApp</a> and\n",
    "  <a href=\"https://keep.google.com/\">Keep</a>\n",
    "* Interests: <a href=\"http://slashdot.org\">Slashdot</a>, \n",
    "  <a href=\"http://linux.softpedia.com/\">Softpedia</a>,\n",
    "  <a href=\"https://sciencedaily.com/\">Science Daily</a>,\n",
    "  <a href=\"https://arstechnica.com/\">ArsTechnica</a>,\n",
    "  <a href=\"https://betanews.com/\">Betanews</a> and\n",
    "  <a href=\"https://www.spin.com/\">Spin</a>.\n",
    "* Kivy: \n",
    "  <a href=\"https://groups.google.com/forum/#!forum/kivy-users\">Kivy Users</a>.\n",
    "  <a href=\"https://groups.google.com/forum/#!forum/kivy-dev\">Kivy Development</a>.\n",
    "  <a href=\"https://github.com/kivy/kivy\">Kivy on Github</a> and\n",
    "  <a href=\"https://kivy.org/docs\">Kivy docs</a>,\n",
    "  <a href=\"https://github.com/hjvankatwijk/btp-classic-kivy/\">btp-classic-kivy</a>\n"
   ]
  },
  {
   "cell_type": "markdown",
   "metadata": {},
   "source": [
    "## Useful \n",
    "There tools can be handy.\n",
    "* <a href=\"https://www.throwawaymail.com/\">ThowAwayMail</a>"
   ]
  },
  {
   "cell_type": "markdown",
   "metadata": {},
   "source": [
    "# Machine\n",
    "\n",
    "* Name: ZenBox\n",
    "* Intel i7 @ 3.8 Ghz\n",
    "* Ge-Force GTX 750 Ti\n",
    "* 8 GB Ram\n",
    "* 1 TB Hard Disk\n",
    "* DVD RW\n",
    "* Xubuntu 16.04"
   ]
  }
 ],
 "metadata": {
  "kernelspec": {
   "display_name": "Python 3",
   "language": "python",
   "name": "python3"
  },
  "language_info": {
   "codemirror_mode": {
    "name": "ipython",
    "version": 3
   },
   "file_extension": ".py",
   "mimetype": "text/x-python",
   "name": "python",
   "nbconvert_exporter": "python",
   "pygments_lexer": "ipython3",
   "version": "3.6.5"
  }
 },
 "nbformat": 4,
 "nbformat_minor": 2
}
