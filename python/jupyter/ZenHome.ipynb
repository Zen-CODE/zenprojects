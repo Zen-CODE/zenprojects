{
 "cells": [
  {
   "cell_type": "markdown",
   "metadata": {},
   "source": [
    "# ZenHome\n",
    "<img src=\"images/origami_bird.jpg\" align=\"right\" width=\"150\" height=\"150\" />\n",
    "\n",
    "Welcome to ZenCODE's home. Where there is always origami...:-)"
   ]
  },
  {
   "cell_type": "markdown",
   "metadata": {},
   "source": [
    "## Origami\n",
    "\n",
    "We have some crazy ideas about building up a repertoire of origami notebooks. So crazy it might even be fun..:-)\n",
    "\n",
    "* <a href=\"Origami/Penguin/Penguin.ipynb\">The Penguin</a>\n"
   ]
  },
  {
   "cell_type": "markdown",
   "metadata": {},
   "source": [
    "# Origami as Metaphor\n",
    "\n",
    "Just as our thoughts shape our actions and thereby transforms our world, so folding shapes paper and transforms squares into models. As actions manifest consequences, so folding manifests art.\n",
    "\n",
    "Just as we can choose our goals move towards then by considered action, so we can choose our models and move towards them by folding"
   ]
  },
  {
   "cell_type": "markdown",
   "metadata": {},
   "source": [
    "# Zorigami\n",
    "\n",
    "From CASEL, we adapt the 5 main Social and Emotional Learning (SEL) Competencies. We distill each of these down into a trinity of guiding principles.\n",
    "\n",
    "* Self Awareness\n",
    "  - Identifying - emotions, thoughts and values\n",
    "  - Perceiving - identifying personal strengths and limitations\n",
    "  - Acting - with confidence, optimism (a \"growth mindset\") and efficacy\n",
    "\n",
    "* Self Management\n",
    "  - Managing  - impulses, stressors and reactions to stimuli\n",
    "  - Orienting - towards personal, academic and environmental goals\n",
    "  - Acting - organizing and structuring behaviour towards goals (self-discipline)\n",
    "  \n",
    "* Social Awareness\n",
    "  - Observe - recognize perspectives of others and empathize\n",
    "  - Understand - social and ethical norms, motivations and values\n",
    "  - Incorporate - respect, acknowledge, interpret\n",
    "  \n",
    "* Relationship Skills\n",
    "  - Listen - resist projecting, conflict and control\n",
    "  - Engage - seeking agreement, consensus, understanding \n",
    "  - Co-operate - communicate and absorb knowledge, help and direction\n",
    "  \n",
    "* Responsible Decision Making\n",
    "  - Identify - problems, obstacles, possible actions and desired outcomes\n",
    "  - Analyze - challenges, risks, barriers and possible outcomes\n",
    "  - Solve - balancing personal and group needs and responsibilities\n",
    "\n"
   ]
  },
  {
   "cell_type": "markdown",
   "metadata": {},
   "source": [
    "## Personal Growth\n",
    "\n",
    "Being committed to personal growth for the better my life and others, I have committed to maintaining a <a href=\"notebooks/Growth/Personal Manifesto.ipynb\">Personal Manifesto</a>.\n",
    "\n",
    "Or [Personal Manifesto](#Growth/Personal Manifesto.ipynb)."
   ]
  },
  {
   "cell_type": "markdown",
   "metadata": {},
   "source": [
    "##  Common Links\n",
    "<img src=\"images/butterfly.jpg\" align=\"right\" width=\"150\" height=\"150\" />\n",
    "\n",
    "* Personal:\n",
    "  <a href=\"https://gmail.com\">GMail</a>, <a href=\"https://web.whatsapp.com/\">WhatsApp</a> and\n",
    "  <a href=\"https://keep.google.com/\">Keep</a>\n",
    "* Interests: <a href=\"http://slashdot.org\">Slashdot</a>, \n",
    "  <a href=\"http://linux.softpedia.com/\">Softpedia</a>,\n",
    "  <a href=\"https://sciencedaily.com/\">Science Daily</a>,\n",
    "  <a href=\"https://arstechnica.com/\">ArsTechnica</a>,\n",
    "  <a href=\"https://betanews.com/\">Betanews</a> and\n",
    "  <a href=\"https://www.spin.com/\">Spin</a>.\n",
    "* Kivy: \n",
    "  <a href=\"https://groups.google.com/forum/#!forum/kivy-users\">Kivy Users</a>.\n",
    "  <a href=\"https://groups.google.com/forum/#!forum/kivy-dev\">Kivy Development</a>.\n",
    "  <a href=\"https://github.com/kivy/kivy\">Kivy on Github</a> and\n",
    "  <a href=\"https://kivy.org/docs\">Kivy docs</a>,\n",
    "  <a href=\"https://github.com/hjvankatwijk/btp-classic-kivy/\">btp-classic-kivy</a>\n"
   ]
  },
  {
   "cell_type": "markdown",
   "metadata": {},
   "source": [
    "## Useful \n",
    "There tools can be handy.\n",
    "* <a href=\"https://www.throwawaymail.com/\">ThowAwayMail</a>"
   ]
  },
  {
   "cell_type": "markdown",
   "metadata": {},
   "source": [
    "# Machine\n",
    "\n",
    "* Name: ZenBox\n",
    "* Intel i7 @ 3.8 Ghz\n",
    "* Ge-Force GTX 750 Ti\n",
    "* 8 GB Ram\n",
    "* 1 TB Hard Disk\n",
    "* DVD RW\n",
    "* Xubuntu 16.04"
   ]
  }
 ],
 "metadata": {
  "kernelspec": {
   "display_name": "Python 3",
   "language": "python",
   "name": "python3"
  },
  "language_info": {
   "codemirror_mode": {
    "name": "ipython",
    "version": 3
   },
   "file_extension": ".py",
   "mimetype": "text/x-python",
   "name": "python",
   "nbconvert_exporter": "python",
   "pygments_lexer": "ipython3",
   "version": "3.6.6"
  },
  "toc": {
   "base_numbering": 1,
   "nav_menu": {},
   "number_sections": false,
   "sideBar": true,
   "skip_h1_title": false,
   "title_cell": "Table of Contents",
   "title_sidebar": "Contents",
   "toc_cell": false,
   "toc_position": {},
   "toc_section_display": true,
   "toc_window_display": false
  }
 },
 "nbformat": 4,
 "nbformat_minor": 2
}
