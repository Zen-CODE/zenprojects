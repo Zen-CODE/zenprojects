{
 "cells": [
  {
   "cell_type": "markdown",
   "metadata": {},
   "source": [
    "<img src=\"images/origami_bird.jpg\" align=\"right\" width=\"150\" height=\"150\" />\n",
    "\n",
    "# ZenHome\n",
    "\n",
    "Welcome to ZenCODE's home. Where there is always orgami...:-)"
   ]
  },
  {
   "cell_type": "markdown",
   "metadata": {},
   "source": [
    "## Origami\n",
    "\n",
    "We have some crazy ideas about building up a repertoire of origami notebooks. So crazy it might even be fun..:-)\n",
    "\n",
    "* <a href=\"Origami/Penguin/Penguin.ipynb\">The Penguin</a>\n"
   ]
  },
  {
   "cell_type": "markdown",
   "metadata": {},
   "source": [
    "<img src=\"images/butterfly.jpg\" align=\"right\" width=\"150\" height=\"150\" />\n",
    "##  Common Links\n",
    "* Personal:\n",
    "  <a href=\"https://gmail.com\">GMail</a>, <a href=\"https://web.whatsapp.com/\">WhatsApp</a> and\n",
    "  <a href=\"https://keep.google.com/\">Keep</a>\n",
    "* Interests: <a href=\"http://slashdot.org\">Slashdot</a>, \n",
    "  <a href=\"http://linux.softpedia.com/\">Softpedia</a>,\n",
    "  <a href=\"https://sciencedaily.com/\">Science Daily</a>,\n",
    "  <a href=\"https://arstechnica.com/\">ArsTechnica</a>,\n",
    "  <a href=\"https://betanews.com/\">Betanews</a> and\n",
    "  <a href=\"https://www.spin.com/\">Spin</a>.\n",
    "* Kivy: \n",
    "  <a href=\"https://groups.google.com/forum/#!forum/kivy-users\">Kivy Users</a>.\n",
    "  <a href=\"https://groups.google.com/forum/#!forum/kivy-dev\">Kivy Development</a>.\n",
    "  <a href=\"https://github.com/kivy/kivy\">Kivy on Github</a> and\n",
    "  <a href=\"https://kivy.org/docs\">Kivy docs</a>,\n",
    "  <a href=\"https://github.com/hjvankatwijk/btp-classic-kivy/\">btp-classic-kivy</a>\n"
   ]
  },
  {
   "cell_type": "code",
   "execution_count": 34,
   "metadata": {},
   "outputs": [
    {
     "data": {
      "application/vnd.jupyter.widget-view+json": {
       "model_id": "5622ee1081514cf19345cdc041763f79"
      }
     },
     "metadata": {},
     "output_type": "display_data"
    },
    {
     "name": "stdout",
     "output_type": "stream",
     "text": [
      "I have been clicked by <ipywidgets.widgets.widget_button.Button object at 0x7f7a3412a278>\n",
      "I have been clicked by <ipywidgets.widgets.widget_button.Button object at 0x7f7a3412a278>\n",
      "I have been clicked by <ipywidgets.widgets.widget_button.Button object at 0x7f7a3412a278>\n",
      "I have been clicked by <ipywidgets.widgets.widget_button.Button object at 0x7f7a3412a278>\n",
      "I have been clicked by <ipywidgets.widgets.widget_button.Button object at 0x7f7a3412a278>\n",
      "I have been clicked by <ipywidgets.widgets.widget_button.Button object at 0x7f7a3412a278>\n"
     ]
    }
   ],
   "source": [
    "from ipywidgets import widgets\n",
    "from IPython.display import display\n",
    "\n",
    "def handle_click(sender):\n",
    "    print(\"I have been clicked by {0}\".format(sender))\n",
    "    outText.value = outText.value + \"1\"\n",
    "\n",
    "button = widgets.Button(description=\"Click me\")\n",
    "button.on_click(handle_click)\n",
    "\n",
    "display(button)\n"
   ]
  },
  {
   "cell_type": "code",
   "execution_count": 40,
   "metadata": {},
   "outputs": [
    {
     "name": "stdout",
     "output_type": "stream",
     "text": [
      "['__class__', '__del__', '__delattr__', '__dict__', '__dir__', '__doc__', '__eq__', '__format__', '__ge__', '__getattribute__', '__getstate__', '__gt__', '__hash__', '__init__', '__init_subclass__', '__le__', '__lt__', '__module__', '__ne__', '__new__', '__reduce__', '__reduce_ex__', '__repr__', '__setattr__', '__setstate__', '__sizeof__', '__str__', '__subclasshook__', '__weakref__', '_add_notifiers', '_call_widget_constructed', '_comm_changed', '_compare', '_config_changed', '_cross_validation_lock', '_default_keys', '_default_layout', '_display_callbacks', '_dom_classes', '_find_my_config', '_handle_custom_msg', '_handle_displayed', '_handle_msg', '_holding_sync', '_ipython_display_', '_is_numpy', '_load_config', '_lock_property', '_log_default', '_model_id', '_model_module', '_model_module_version', '_model_name', '_msg_callbacks', '_notify_trait', '_property_lock', '_register_validator', '_remove_notifiers', '_send', '_should_send_property', '_split_state_buffers', '_states_to_send', '_trait_default_generators', '_trait_from_json', '_trait_notifiers', '_trait_to_json', '_trait_validators', '_trait_values', '_version_frontend', '_version_validated', '_view_module', '_view_module_version', '_view_name', '_widget_construction_callback', 'add_class', 'add_traits', 'class_config_rst_doc', 'class_config_section', 'class_get_help', 'class_get_trait_help', 'class_own_trait_events', 'class_own_traits', 'class_print_help', 'class_trait_names', 'class_traits', 'close', 'color', 'comm', 'config', 'cross_validation_lock', 'description', 'disabled', 'get_interact_value', 'get_manager_state', 'get_state', 'get_view_spec', 'handle_comm_opened', 'has_trait', 'hold_sync', 'hold_trait_notifications', 'keys', 'layout', 'log', 'model_id', 'msg_throttle', 'notify_change', 'observe', 'on_displayed', 'on_msg', 'on_trait_change', 'on_widget_constructed', 'open', 'parent', 'placeholder', 'remove_class', 'section_names', 'send', 'send_state', 'set_state', 'set_trait', 'setup_instance', 'trait_events', 'trait_metadata', 'trait_names', 'traits', 'unobserve', 'unobserve_all', 'update_config', 'value', 'widget_types', 'widgets']\n"
     ]
    },
    {
     "data": {
      "application/vnd.jupyter.widget-view+json": {
       "model_id": "ca91e7e4a8d3480ca7d3f3f4d26e3e14"
      }
     },
     "metadata": {},
     "output_type": "display_data"
    }
   ],
   "source": [
    "outText = widgets.Label(color=\"#FFAA88\") # widgets.Text()\n",
    "print(dir(outText))\n",
    "outText"
   ]
  },
  {
   "cell_type": "markdown",
   "metadata": {},
   "source": [
    "## Useful \n",
    "There tools can be handy.\n",
    "* <a href=\"https://www.throwawaymail.com/\">ThowAwayMail</a>"
   ]
  },
  {
   "cell_type": "markdown",
   "metadata": {},
   "source": [
    "# Machine\n",
    "\n",
    "* Name: ZenBox\n",
    "* Intel i7 @ 3.8 Ghz\n",
    "* Ge-Force GTX 750 Ti\n",
    "* 8 GB Ram\n",
    "* 1 TB Hard Disk\n",
    "* DVD RW\n",
    "* Xubuntu 16.04"
   ]
  }
 ],
 "metadata": {
  "kernelspec": {
   "display_name": "Python 3",
   "language": "python",
   "name": "python3"
  },
  "language_info": {
   "codemirror_mode": {
    "name": "ipython",
    "version": 3
   },
   "file_extension": ".py",
   "mimetype": "text/x-python",
   "name": "python",
   "nbconvert_exporter": "python",
   "pygments_lexer": "ipython3",
   "version": "3.6.5"
  }
 },
 "nbformat": 4,
 "nbformat_minor": 2
}
