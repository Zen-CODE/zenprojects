{
 "cells": [
  {
   "cell_type": "markdown",
   "metadata": {},
   "source": [
    "<img src=\"images/origami_bird.jpg\" align=\"right\" width=\"150\" height=\"150\" />\n",
    "# ZenHome\n",
    "\n",
    "Welcome to ZenCODE's home. Where there is always orgami...:-)"
   ]
  },
  {
   "cell_type": "markdown",
   "metadata": {},
   "source": [
    "<img src=\"images/butterfly.jpg\" align=\"right\" width=\"150\" height=\"150\" />\n",
    "## Common Links\n",
    "Where to go? We commonly check our\n",
    "<a href=\"https://gmail.com\">GMail</a>, \n",
    "<a href=\"https://web.whatsapp.com/\">WhatsApp</a> and\n",
    "<a href=\"https://keep.google.com/\">Keep</a> whilst helping our\n",
    "<a href=\"https://groups.google.com/forum/#!forum/kivy-users\">Kivy Users</a>.\n",
    "<br/>\n",
    "When curious, we like to read\n",
    "<a href=\"http://slashdot.org\">Slashdot</a>, \n",
    "<a href=\"http://linux.softpedia.com/\">Softpedia</a>,\n",
    "<a href=\"https://sciencedaily.com/\">Science Daily</a>,\n",
    "<a href=\"https://arstechnica.com/\">ArsTechnica</a>,\n",
    "<a href=\"https://betanews.com/\">Betanews</a> and\n",
    "<a href=\"https://www.spin.com/\">Spin</a>.\n"
   ]
  }
 ],
 "metadata": {
  "kernelspec": {
   "display_name": "Python 3",
   "language": "python",
   "name": "python3"
  },
  "language_info": {
   "codemirror_mode": {
    "name": "ipython",
    "version": 3
   },
   "file_extension": ".py",
   "mimetype": "text/x-python",
   "name": "python",
   "nbconvert_exporter": "python",
   "pygments_lexer": "ipython3",
   "version": "3.6.5"
  }
 },
 "nbformat": 4,
 "nbformat_minor": 2
}
