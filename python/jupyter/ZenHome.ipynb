{
 "cells": [
  {
   "cell_type": "markdown",
   "metadata": {},
   "source": [
    "# ZenHome\n",
    "<img src=\"ZenHome/Y4_Large_reduc.jpg\" align=\"right\" width=\"125\" height=\"125\" />\n",
    "\n",
    "Welcome to ZenCODE's digital home."
   ]
  },
  {
   "cell_type": "markdown",
   "metadata": {},
   "source": [
    "# Interests\n",
    "\n",
    "We all need interests, passions and pursuits. Some things that are important to me are\n",
    "\n",
    "- <a href=\"Origami/Origami.ipynb\">Origami</a>\n",
    "- Music\n",
    "- Coding and Kivy\n",
    "- Growth and learning"
   ]
  },
  {
   "cell_type": "markdown",
   "metadata": {},
   "source": [
    "## Personal Growth\n",
    "\n",
    "Being committed to personal growth for the better my life and others, I have committed to maintaining:\n",
    "- a <a href=\"Growth/Personal Manifesto.ipynb\">Personal Manifesto</a>.\n",
    "- a list of <a href=\"Growth/Personal Manifesto.ipynb\">Goals and Aspirations</a>.\n",
    "- an acknowledgment of <a href=\"Growth/Roles and Responsibilities.ipynb\">Roles and Responsibilities</a>.\n",
    "\n"
   ]
  },
  {
   "cell_type": "markdown",
   "metadata": {},
   "source": [
    "##  Common Links\n",
    "<img src=\"images/butterfly.jpg\" align=\"right\" width=\"150\" height=\"150\" />\n",
    "\n",
    "* Personal:\n",
    "  <a href=\"https://gmail.com\">GMail</a>, <a href=\"https://web.whatsapp.com/\">WhatsApp</a> and\n",
    "  <a href=\"https://keep.google.com/\">Keep</a>\n",
    "* Interests: <a href=\"http://slashdot.org\">Slashdot</a>, \n",
    "  <a href=\"http://linux.softpedia.com/\">Softpedia</a>,\n",
    "  <a href=\"https://sciencedaily.com/\">Science Daily</a>,\n",
    "  <a href=\"https://arstechnica.com/\">ArsTechnica</a>,\n",
    "  <a href=\"https://betanews.com/\">Betanews</a> and\n",
    "  <a href=\"https://www.spin.com/\">Spin</a>.\n",
    "* Kivy: \n",
    "  <a href=\"https://groups.google.com/forum/#!forum/kivy-users\">Kivy Users</a>.\n",
    "  <a href=\"https://groups.google.com/forum/#!forum/kivy-dev\">Kivy Development</a>.\n",
    "  <a href=\"https://github.com/kivy/kivy\">Kivy on Github</a> and\n",
    "  <a href=\"https://kivy.org/docs\">Kivy docs</a>,\n",
    "  <a href=\"https://github.com/hjvankatwijk/btp-classic-kivy/\">btp-classic-kivy</a>\n"
   ]
  },
  {
   "cell_type": "markdown",
   "metadata": {},
   "source": [
    "## Useful \n",
    "There tools can be handy.\n",
    "* <a href=\"https://www.throwawaymail.com/\">ThowAwayMail</a>"
   ]
  },
  {
   "cell_type": "markdown",
   "metadata": {},
   "source": [
    "# Machine\n",
    "\n",
    "* Name: ZenBox\n",
    "* Intel i7 @ 3.8 Ghz\n",
    "* Ge-Force GTX 750 Ti\n",
    "* 8 GB Ram\n",
    "* 1 TB Hard Disk\n",
    "* DVD RW\n",
    "* Xubuntu 16.04"
   ]
  }
 ],
 "metadata": {
  "kernelspec": {
   "display_name": "Python 3",
   "language": "python",
   "name": "python3"
  },
  "language_info": {
   "codemirror_mode": {
    "name": "ipython",
    "version": 3
   },
   "file_extension": ".py",
   "mimetype": "text/x-python",
   "name": "python",
   "nbconvert_exporter": "python",
   "pygments_lexer": "ipython3",
   "version": "3.6.6"
  },
  "toc": {
   "base_numbering": 1,
   "nav_menu": {},
   "number_sections": false,
   "sideBar": true,
   "skip_h1_title": false,
   "title_cell": "Table of Contents",
   "title_sidebar": "Contents",
   "toc_cell": false,
   "toc_position": {},
   "toc_section_display": true,
   "toc_window_display": false
  }
 },
 "nbformat": 4,
 "nbformat_minor": 2
}
