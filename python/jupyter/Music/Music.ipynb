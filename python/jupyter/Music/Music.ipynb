{
 "cells": [
  {
   "cell_type": "markdown",
   "metadata": {},
   "source": [
    "# Music\n",
    "<img src=\"Music/Y4_Large_reduc.jpg\" align=\"right\" width=\"64\" height=\"64\" />\n",
    "\n",
    "Zen's Music Playround"
   ]
  },
  {
   "cell_type": "markdown",
   "metadata": {},
   "source": [
    "# Introduction\n",
    "\n",
    "This page contains some experiments with Jupyter and playing with my music collection. To play happily, we have divided this page into multiple sections.\n",
    "\n",
    "These sections are:\n",
    "* [Setup](#Setup \"Load the Music Library class and variables\")\n",
    "* [Get random album and cover](#Random-Album \"Get a random album and it's track listing.\")\n",
    "* [Get the MPRIS2 player](#Get-the-MRIS2-Player \"Get access to the current MRIS2 Player\")\n",
    "* [Library Analysis](#Library-Analysis)\n",
    "* [SVG Demo](#SVG-Demo)\n",
    "\n",
    "For useful help, you can check out:\n",
    "* The [Jupyter Widget List](https://ipywidgets.readthedocs.io/en/stable/examples/Widget%20List.html)\n"
   ]
  },
  {
   "cell_type": "markdown",
   "metadata": {},
   "source": [
    "## Setup\n",
    "\n",
    "Execute the cell below to instantiate the MusicLib class and make it available as *lib*."
   ]
  },
  {
   "cell_type": "code",
   "execution_count": 2,
   "metadata": {},
   "outputs": [],
   "source": [
    "from os import listdir\n",
    "from os.path import join, isdir, exists, basename\n",
    "from random import sample\n",
    "from glob import glob\n",
    "import ipywidgets as widgets\n",
    "from IPython.core.display import HTML, display\n",
    "from textwrap import dedent\n",
    "import codecs\n",
    "\n",
    "class Templates(object):\n",
    "    \"\"\"\n",
    "    This class defines varios HTML templates as constants from output in\n",
    "    the MusicLib class.\n",
    "    \"\"\"\n",
    "    @staticmethod\n",
    "    def get_album():\n",
    "        \"\"\"\n",
    "        Return the HTML for an album template. The template has placeholders\n",
    "        for 'artist', 'album' and 'tracks'.\n",
    "        \"\"\"\n",
    "        return dedent('''\n",
    "            <table>\n",
    "                <tr>\n",
    "                  <th><b>{artist}</b></th>\n",
    "                  <th><b>{album}</b></th>\n",
    "                </tr>\n",
    "                <tr>\n",
    "                  <td>{cover}</td>\n",
    "                  <td>{tracks}</td>\n",
    "                </tr>            \n",
    "            </table>\n",
    "        ''')\n",
    "    \n",
    "    @staticmethod\n",
    "    def get_image():\n",
    "        \"\"\"\n",
    "        Return the HTML for the album cover with a placeholder for\n",
    "        'base64'\n",
    "        \"\"\"\n",
    "        return '<img alt=\"Image\" src=\"data:image/png;base64,{base64}\"'\\\n",
    "            ' width=\"300px\" height=\"300px\" />'\n",
    "    \n",
    "class MusicLib(object):\n",
    "    \"\"\"\n",
    "    Class for fetching information about our music library, as an experiment\n",
    "    in jupyter\n",
    "    \"\"\"\n",
    "\n",
    "    def __init__(self, path):\n",
    "        self.path = path \n",
    "    \n",
    "    def artists(self):\n",
    "        \"\"\" Return a list of lartists. \"\"\"\n",
    "        return [name for name in listdir(self.path) if isdir(join(self.path, name))]\n",
    "\n",
    "    def get_random_artists(self, number):\n",
    "        \"\"\" Return a random list of *number* artists. \"\"\"\n",
    "        artists = self.artists()\n",
    "        return sample(artists, number)\n",
    "\n",
    "    def get_random_albums(self, artist, number):\n",
    "        \"\"\" Return a random list of *number* albums by *artist*. \"\"\"\n",
    "        albums = self.albums(artist)\n",
    "        if albums:\n",
    "            return sample(albums, number)\n",
    "        else:\n",
    "            raise(Exception(\"No albums found for {0}\".format(artist)))\n",
    "\n",
    "    def albums(self, artist):\n",
    "        \"\"\" Return a list of albums for the *artist*. \"\"\"\n",
    "        path = join(self.path, artist)\n",
    "        return [name for name in listdir(path) if isdir(join(path, name))]\n",
    "    \n",
    "    @staticmethod\n",
    "    def get_inline_image(file_name):\n",
    "        \"\"\" Return an HTML formatted inline image \"\"\"\n",
    "        if file_name == \"\":\n",
    "            file_name = \"Music/audio_icon.png\"\n",
    "        \n",
    "        with open(file_name, \"rb\") as f:\n",
    "            b64 = codecs.encode(f.read(), 'base64')\n",
    "            html = Templates.get_image()\n",
    "            try:\n",
    "                return html.format(**{'base64': str(b64, 'ascii')})\n",
    "            except:  \n",
    "                return html.format(**{'base64': str(b64).encode('ascii')})\n",
    "            \n",
    "    \n",
    "    def get_album_cover(self, artist, album, size=300):\n",
    "        \"\"\"\n",
    "        Return the album cover for the specified album or null string\n",
    "        if it does not exist.\n",
    "        \"\"\"\n",
    "        path = join(self.path, artist, album)\n",
    "        pattern = \"cover.*\"\n",
    "        matches = glob(join(path, pattern))\n",
    "        return matches[0] if matches else \"\"\n",
    "\n",
    "    def get_album_path(self, artist, album):\n",
    "        \"\"\" Return the full path to the specified album. \"\"\"\n",
    "        return join(self.path, artist, album)\n",
    "            \n",
    "    @staticmethod\n",
    "    def _get_any_matches(path, *exts):\n",
    "        \"\"\" Return the first valid files matching the extentions\n",
    "        in the path specified.\"\"\"\n",
    "        for ext in exts:\n",
    "            matches = glob(join(path, ext))\n",
    "            if matches:\n",
    "                return matches\n",
    "        return None\n",
    "\n",
    "    def get_album_tracks(self, artist, album):\n",
    "        \"\"\"\n",
    "        Return a list of the album tracks\n",
    "        \"\"\"\n",
    "        def get_name(fname):\n",
    "            \"\"\"\"Return the nice, cleaned name of the track\"\"\"\n",
    "            return basename(fname)  # [:-4]\n",
    "        \n",
    "        path = join(self.path, artist, album)\n",
    "        matches = self._get_any_matches(\n",
    "            path, \"*.mp3\", \"*.ogg\", \"*.m4a\", \"*.wma\")\n",
    "        if matches:\n",
    "            return sorted([get_name(f) for f in matches])\n",
    "        else:\n",
    "            return []\n",
    "\n",
    "    def get_album_summary(self, artist, album):\n",
    "        \"\"\" Return a pretty album summary \"\"\"\n",
    "        cover = self.get_album_cover(artist, album)\n",
    "        items = [widgets.Label(\"{0}: {1}\".format(artist, album))]\n",
    "        [items.append(widgets.Label(track, width=200)) for track in self.get_album_tracks(artist,\n",
    "                                                                album)]\n",
    "        right = widgets.VBox(items, width=300)\n",
    "        return widgets.HBox([cover, right])\n",
    "\n",
    "    def get_album_summary_html(self, artist, album, out):\n",
    "        \"\"\" Return a pretty album summary \"\"\"\n",
    "        with out:\n",
    "            data = {'artist': artist,\n",
    "                    'album': album}\n",
    "            cover = self.get_album_cover(artist, album)       \n",
    "            tracks = [track for track in self.get_album_tracks(artist, album)]\n",
    "            data['tracks'] = \"<br/>\".join(tracks)\n",
    "            data['cover'] = cover\n",
    "            html = HTML(Templates.get_album().format(**data))\n",
    "            display(html)\n",
    "            \n",
    "\n",
    "library = \"/home/fruitbat/Zen/Music/\"\n",
    "lib = MusicLib(library)           "
   ]
  },
  {
   "cell_type": "markdown",
   "metadata": {},
   "source": [
    "[Back to top](#Introduction \"Back the top of the page\")"
   ]
  },
  {
   "cell_type": "markdown",
   "metadata": {},
   "source": [
    "## Random Album"
   ]
  },
  {
   "cell_type": "code",
   "execution_count": 3,
   "metadata": {},
   "outputs": [
    {
     "data": {
      "application/vnd.jupyter.widget-view+json": {
       "model_id": "597ce3df604449c5b664c560153e7e07"
      }
     },
     "metadata": {},
     "output_type": "display_data"
    }
   ],
   "source": [
    "from IPython.display import clear_output\n",
    "from ipywidgets import Output\n",
    "from os import system\n",
    "\n",
    "class Player(object):\n",
    "    \"\"\"\n",
    "    Control audiacious and volume settings.\n",
    "    https://wiki.archlinux.org/index.php/PulseAudio#Keyboard_volume_control\n",
    "    \"\"\"\n",
    "    @staticmethod\n",
    "    def play_pause():\n",
    "        system('audacious -t')\n",
    "        \n",
    "    @staticmethod\n",
    "    def volume_up():\n",
    "        system('pactl set-sink-volume 1 +5%')\n",
    "        \n",
    "    @staticmethod\n",
    "    def volume_down():\n",
    "        system('pactl set-sink-volume 1 -5%')\n",
    "\n",
    "    @staticmethod\n",
    "    def enqueue(album):\n",
    "        \"\"\" Add the specified folder to the audacious queue. \"\"\"\n",
    "        system('audacious -e \"{0}\"'.format(album))\n",
    "\n",
    "    @staticmethod\n",
    "    def open_folder(album):\n",
    "        \"\"\" Open and play the files in the folder specified . \"\"\"\n",
    "        system('audacious -E \"{0}\"'.format(album))\n",
    "\n",
    "        \n",
    "class RandomAlbum(object):\n",
    "    \"\"\" Convenience class for genration a random album dislay\"\"\"\n",
    "    out = None\n",
    "    artist = None\n",
    "    album = None\n",
    "\n",
    "    @staticmethod\n",
    "    def get():\n",
    "        \"\"\" Generate and display a random album. \"\"\"\n",
    "        ra = RandomAlbum\n",
    "        if ra.out is not None:\n",
    "            ra.out.clear_output(wait=True)\n",
    "        else:\n",
    "            ra.out = Output()\n",
    "            display(ra.out)\n",
    "\n",
    "        ra.artist =  lib.get_random_artists(1)[0]\n",
    "        ra.album =  lib.get_random_albums(ra.artist, 1)[0]\n",
    "        lib.get_album_summary_html(\n",
    "            ra.artist, ra.album, ra.out)\n",
    "\n",
    "    @staticmethod\n",
    "    def enqueue():\n",
    "        \"\"\" Add the currently displayed album to the audacious\n",
    "        queue. \"\"\"\n",
    "        album = lib.get_album_path(RandomAlbum.artist,\n",
    "                                   RandomAlbum.album)\n",
    "        Player.enqueue(album)\n",
    "\n",
    "    @staticmethod\n",
    "    def open_folder():\n",
    "        \"\"\" Play the currently displayed album. \"\"\"\n",
    "        album = lib.get_album_path(RandomAlbum.artist,\n",
    "                                   RandomAlbum.album)\n",
    "        Player.open_folder(album)\n",
    "    \n",
    "    \n",
    "class AlbumButtons():\n",
    "    \"\"\" A simple factory class for proving the buttons\"\"\"        \n",
    "    @staticmethod\n",
    "    def get():\n",
    "        def create_button(descrip, func):\n",
    "            \"\"\" Create a button with the specified description and\n",
    "            fire on func on the click event \"\"\"\n",
    "            but = widgets.Button(description=descrip)\n",
    "            but.on_click(func)\n",
    "            return but            \n",
    "        \n",
    "        btn_dis = create_button('Display a random album',\n",
    "            lambda dt: RandomAlbum.get())\n",
    "\n",
    "        btn_enqueue = create_button('Enqueue album',\n",
    "            lambda dt: RandomAlbum.enqueue())\n",
    "\n",
    "        btn_open = create_button('Play album',\n",
    "            lambda dt: RandomAlbum.open_folder())\n",
    "\n",
    "        return [btn_dis, btn_enqueue, btn_open]\n",
    "\n",
    "widgets.HBox(AlbumButtons.get())"
   ]
  },
  {
   "cell_type": "markdown",
   "metadata": {},
   "source": [
    "[Back to top](#Introduction \"Back the top of the page\")"
   ]
  },
  {
   "cell_type": "markdown",
   "metadata": {},
   "source": [
    "## Get the MRIS2 Player"
   ]
  },
  {
   "cell_type": "code",
   "execution_count": 6,
   "metadata": {},
   "outputs": [
    {
     "data": {
      "application/vnd.jupyter.widget-view+json": {
       "model_id": "14f65c1bb49647439e1ae9a13a657d0c"
      }
     },
     "metadata": {},
     "output_type": "display_data"
    },
    {
     "data": {
      "application/vnd.jupyter.widget-view+json": {
       "model_id": "2b46d6be03804edd98a81f6571c8a804"
      }
     },
     "metadata": {},
     "output_type": "display_data"
    }
   ],
   "source": [
    "from mpris2 import get_players_uri\n",
    "from mpris2 import Player\n",
    "try:\n",
    "    from urllib.parse import urlparse, unquote\n",
    "except ImportError:\n",
    "     from urlparse import urlparse\n",
    "\n",
    "uri = next(get_players_uri())\n",
    "mp2_player = Player(dbus_interface_info={'dbus_uri': uri})\n",
    "\n",
    "class MP2():\n",
    "    \"\"\" A simple factory class for proving the buttons\"\"\"        \n",
    "    out = None\n",
    "\n",
    "    @staticmethod\n",
    "    def _get_cover(url):\n",
    "        \"\"\" Return the path to the cover art \"\"\"\n",
    "        parsed = urlparse(url)\n",
    "        if parsed.scheme == 'file':\n",
    "            return unquote(parsed.path)\n",
    "        else:\n",
    "            return \"Music/audio_icon.png\"\n",
    "        \n",
    "    @staticmethod\n",
    "    def show_info():\n",
    "        mp = MP2\n",
    "        if mp.out is not None:\n",
    "            mp.out.clear_output(wait=True)\n",
    "        else:\n",
    "            mp.out = Output()\n",
    "            display(mp.out)\n",
    "\n",
    "        with mp.out:\n",
    "            # 'xesam:title - Turn Down for What (Dj KreCer & DJ Alex Shafrygin remix)'\n",
    "            # \"xesam:artist - dbus.Array([dbus.String('DJ Snake & Lil Jon')], signature=dbus.Signature('s'), variant_level=1)\"\n",
    "            # 'xesam:album - Various'\n",
    "            # 'xesam:url - file:///home/fruitbat/Zen/Music/DJ%20Snake/Various/DJ%20Snake%20%26%20Lil%20Jon%20-%20Turn%20Down%20for%20What%20%28Dj%20KreCer%20%26%20DJ%20Alex%20Shafrygin%20remix%29.mp3'\n",
    "            # 'mpris:length - 237860000'\n",
    "            # 'mpris:artUrl - file:///home/fruitbat/Zen/Music/DJ%20Snake/Various/cover.jpg'\n",
    "            # 'mpris:trackid - /org/mpris/MediaPlayer2/CurrentTrack'\n",
    "            data = mp2_player.Metadata\n",
    "            fname = MP2._get_cover(str(data['mpris:artUrl']))\n",
    "\n",
    "            html = Templates.get_album().format(**{\n",
    "                \"artist\": data['xesam:artist'][0],\n",
    "                \"album\": data['xesam:album'],\n",
    "                \"cover\": MusicLib.get_inline_image(fname),\n",
    "                \"tracks\": data['xesam:title']})\n",
    "            display(HTML(html))\n",
    "                \n",
    "\n",
    "    @staticmethod\n",
    "    def get_buttons():\n",
    "        def change_volume(val):\n",
    "            mp2_player.Volume += val\n",
    "        \n",
    "                \n",
    "        def create_button(descrip, func):\n",
    "            \"\"\" Create a button with the specified description and\n",
    "            fire on func on the click event \"\"\"\n",
    "            but = widgets.Button(description=descrip)\n",
    "            but.on_click(func)\n",
    "            return but            \n",
    "        \n",
    "        btn_prev = create_button('Previous',\n",
    "            lambda dt: mp2_player.Previous())\n",
    "\n",
    "        btn_pp = create_button('Play/Pause',\n",
    "            lambda dt: mp2_player.PlayPause())\n",
    "\n",
    "        btn_next = create_button('Next',\n",
    "            lambda dt: mp2_player.Next())\n",
    "\n",
    "        btn_vol_up = create_button('Volume up',\n",
    "            lambda dt: change_volume(0.05))\n",
    "        \n",
    "        btn_vol_down = create_button('Volume down',\n",
    "            lambda dt: change_volume(-0.05))\n",
    "        \n",
    "        btn_info = create_button(\"Show player info\",\n",
    "            lambda dt: MP2.show_info())\n",
    "        return [btn_prev, btn_pp, btn_next, btn_vol_up, btn_vol_down, btn_info]\n",
    "    \n",
    "widgets.HBox(MP2.get_buttons())"
   ]
  },
  {
   "cell_type": "markdown",
   "metadata": {},
   "source": [
    "[Back to top](#Introduction \"Back the top of the page\")"
   ]
  },
  {
   "cell_type": "markdown",
   "metadata": {},
   "source": [
    "## Library Analysis"
   ]
  },
  {
   "cell_type": "code",
   "execution_count": 61,
   "metadata": {},
   "outputs": [
    {
     "name": "stdout",
     "output_type": "stream",
     "text": [
      "Missing cover for Sebada Sebada - Kgwedi\n",
      "Missing cover for Deep Dish - Westside\n",
      "Missing cover for Vatos Locos - Unknown\n",
      "Missing cover for Classical - Ludwig Van Beethoven\n",
      "Missing cover for Classical - Joseph Haydn\n",
      "Missing cover for Classical - Wolfgang Amadeus Mozart\n",
      "Missing cover for Classical - Johannes Brahms\n"
     ]
    }
   ],
   "source": [
    "# Print missing tracks\n",
    "for artist in lib.artists():\n",
    "    for album in lib.albums(artist):\n",
    "        cover = lib.get_album_cover(artist, album) \n",
    "        if cover == \"\" and 'Various' not in artist:\n",
    "            print(\"Missing cover for {0} - {1}\".format(artist, album))\n",
    "        "
   ]
  },
  {
   "cell_type": "markdown",
   "metadata": {},
   "source": [
    "## SVG Demo\n",
    "\n",
    "The cell below demonstrates the inline SVG ability of the notebook..."
   ]
  },
  {
   "cell_type": "code",
   "execution_count": 15,
   "metadata": {},
   "outputs": [
    {
     "data": {
      "image/svg+xml": [
       "<svg height=\"100\" width=\"100\">\n",
       "  <circle cx=\"50\" cy=\"50\" fill=\"yellow\" r=\"40\" stroke=\"green\" stroke-width=\"2\"/>\n",
       "</svg>"
      ],
      "text/plain": [
       "<IPython.core.display.SVG object>"
      ]
     },
     "execution_count": 15,
     "metadata": {},
     "output_type": "execute_result"
    }
   ],
   "source": [
    "from IPython.display import SVG\n",
    "SVG(data='''\n",
    "<svg width=\"100\" height=\"100\">\n",
    "  <circle cx=\"50\" cy=\"50\" r=\"40\" stroke=\"green\" stroke-width=\"2\" fill=\"yellow\" />\n",
    "</svg>\n",
    "''')\n"
   ]
  },
  {
   "cell_type": "markdown",
   "metadata": {},
   "source": [
    "[Back to top](#Introduction \"Back the top of the page\")"
   ]
  },
  {
   "cell_type": "markdown",
   "metadata": {},
   "source": []
  }
 ],
 "metadata": {
  "kernelspec": {
   "display_name": "Python 3",
   "language": "python",
   "name": "python3"
  },
  "language_info": {
   "codemirror_mode": {
    "name": "ipython",
    "version": 3
   },
   "file_extension": ".py",
   "mimetype": "text/x-python",
   "name": "python",
   "nbconvert_exporter": "python",
   "pygments_lexer": "ipython3",
   "version": "3.6.7"
  },
  "toc": {
   "base_numbering": 1,
   "nav_menu": {},
   "number_sections": false,
   "sideBar": true,
   "skip_h1_title": false,
   "title_cell": "Table of Contents",
   "title_sidebar": "Contents",
   "toc_cell": false,
   "toc_position": {},
   "toc_section_display": true,
   "toc_window_display": false
  }
 },
 "nbformat": 4,
 "nbformat_minor": 2
}
