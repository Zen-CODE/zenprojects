{
 "cells": [
  {
   "cell_type": "markdown",
   "metadata": {},
   "source": [
    "# Music\n",
    "<img src=\"Music/Y4_Large_reduc.jpg\" align=\"right\" width=\"64\" height=\"64\" />\n",
    "\n",
    "Zen's Music Playround"
   ]
  },
  {
   "cell_type": "markdown",
   "metadata": {},
   "source": [
    "# Introduction\n",
    "\n",
    "This page contains some experiments with Jupyter and playing with my music collection. To play happily, we have divided this page into multiple sections.\n",
    "\n",
    "These sections are:\n",
    "* [Setup](#Setup \"Load the Music Library class and variables\")\n",
    "* [Get random albums](#Random-Albums \"Get 5 random albums\")\n",
    "* [Get random album and cover](#Random-Album-and-Cover \"Get a random album and it's track listing.\")\n",
    "\n",
    "For useful help, you can check out:\n",
    "* The [Jupyter Widget List](https://ipywidgets.readthedocs.io/en/stable/examples/Widget%20List.html)\n"
   ]
  },
  {
   "cell_type": "markdown",
   "metadata": {},
   "source": [
    "## Setup\n",
    "\n",
    "Execute the cell below to instantiate the MusicLib class and make it available as *lib*."
   ]
  },
  {
   "cell_type": "code",
   "execution_count": 68,
   "metadata": {},
   "outputs": [],
   "source": [
    "from os import listdir\n",
    "from os.path import join, isdir, exists, basename\n",
    "from random import sample\n",
    "from glob import glob\n",
    "import ipywidgets as widgets\n",
    "from IPython.core.display import HTML, display\n",
    "from textwrap import dedent\n",
    "import codecs\n",
    "\n",
    "class Templates(object):\n",
    "    \"\"\"\n",
    "    This class defines varios HTML templates as constants from output in\n",
    "    the MusicLib class.\n",
    "    \"\"\"\n",
    "    @staticmethod\n",
    "    def get_album():\n",
    "        \"\"\"\n",
    "        Return the HTML for an album template. The template has placeholders\n",
    "        for 'artist', 'album' and 'tracks'.\n",
    "        \"\"\"\n",
    "        return dedent('''\n",
    "            <table>\n",
    "                <tr>\n",
    "                  <th><b>{artist} - {album}</b></th>\n",
    "                </tr>\n",
    "                <tr>\n",
    "                  <td>{tracks}</td>\n",
    "                </tr>            \n",
    "            </table>\n",
    "        ''')\n",
    "    \n",
    "    @staticmethod\n",
    "    def get_image():\n",
    "        \"\"\"\n",
    "        Return the HTML for the album cover with a placeholder for\n",
    "        'base64'\n",
    "        \"\"\"\n",
    "        return '<img alt=\"Image\" src=\"data:image/png;base64,{base64}\"'\\\n",
    "            ' width=\"300px\" height=\"300px\" />'\n",
    "    \n",
    "class MusicLib(object):\n",
    "    \"\"\"\n",
    "    Class for fetching information about our music library, as an experiment\n",
    "    in jupyter\n",
    "    \"\"\"\n",
    "   \n",
    "    def __init__(self, path):\n",
    "       self.path = path \n",
    "    \n",
    "    def artists(self):\n",
    "        \"\"\" Return a list of lartists. \"\"\"\n",
    "        return [name for name in listdir(self.path) if isdir(join(self.path, name))]\n",
    "\n",
    "    def get_random_artists(self, number):\n",
    "        \"\"\" Return a random list of *number* artists. \"\"\"\n",
    "        artists = self.artists()\n",
    "        return sample(artists, number)\n",
    "\n",
    "    def get_random_albums(self, artist, number):\n",
    "        \"\"\" Return a random list of *number* albums by *artist*. \"\"\"\n",
    "        albums = self.albums(artist)\n",
    "        return sample(albums, number)\n",
    "\n",
    "    def albums(self, artist):\n",
    "        \"\"\" Return a list of albums for the *artist*. \"\"\"\n",
    "        path = join(self.path, artist)\n",
    "        return [name for name in listdir(path) if isdir(join(path, name))]\n",
    "    \n",
    "    def get_album_cover(self, artist, album, size=300):\n",
    "        \"\"\"\n",
    "        Return the album cover for the specified album. Return an IPython widget\n",
    "        if path is False, otherwise it returns the full fiel path.\n",
    "        \"\"\"\n",
    "        path = join(self.path, artist, album)\n",
    "        pattern = \"cover.*\"\n",
    "        matches = glob(join(path, pattern))\n",
    "        if matches:\n",
    "            fname = matches[0]\n",
    "            with open(fname, \"rb\") as f:\n",
    "                b64 = codecs.encode(f.read(), 'base64')\n",
    "                html = Templates.get_image()\n",
    "                return HTML(html.format(**{'base64': str(b64, 'ascii')}))\n",
    "                \n",
    "    def get_album_tracks(self, artist, album):\n",
    "        \"\"\" Return a list of the album tracks\"\"\"\n",
    "        def get_name(fname):\n",
    "            \"\"\"\"Return the nice, cleaned name of the track\"\"\"\n",
    "            return basename(fname)  # [:-4]\n",
    "        \n",
    "        path = join(self.path, artist, album)\n",
    "        pattern = \"*.mp3\"\n",
    "        matches = glob(join(path, pattern))        \n",
    "        return sorted([get_name(f) for f in matches])\n",
    "\n",
    "    def get_album_summary(self, artist, album):\n",
    "        \"\"\" Return a pretty album summary \"\"\"\n",
    "        cover = self.get_album_cover(artist, album)\n",
    "        items = [widgets.Label(\"{0}: {1}\".format(artist, album))]\n",
    "        [items.append(widgets.Label(track, width=200)) for track in self.get_album_tracks(artist,\n",
    "                                                                album)]\n",
    "        right = widgets.VBox(items, width=300)\n",
    "        return widgets.HBox([cover, right])\n",
    "\n",
    "    def get_album_summary_html(self, artist, album, out):\n",
    "        \"\"\" Return a pretty album summary \"\"\"\n",
    "        with out:\n",
    "            data = {'artist': artist,\n",
    "                    'album': album}\n",
    "            cover = self.get_album_cover(artist, album)       \n",
    "            tracks = [track for track in self.get_album_tracks(artist, album)]\n",
    "            data['tracks'] = \"<br/>\".join(tracks)\n",
    "            html = HTML(Templates.get_album().format(**data))\n",
    "            display(cover)\n",
    "            display(html)\n",
    "            \n",
    "\n",
    "library = \"/home/fruitbat/Music/\"\n",
    "lib = MusicLib(library)           "
   ]
  },
  {
   "cell_type": "markdown",
   "metadata": {},
   "source": [
    "[Back to top](#Introduction \"Back the top of the page\")"
   ]
  },
  {
   "cell_type": "code",
   "execution_count": 70,
   "metadata": {},
   "outputs": [
    {
     "data": {
      "application/vnd.jupyter.widget-view+json": {
       "model_id": "ee3fdeb5984b49728b296bdcbb11f6e1"
      }
     },
     "metadata": {},
     "output_type": "display_data"
    },
    {
     "data": {
      "application/vnd.jupyter.widget-view+json": {
       "model_id": "8ba73f471d854b0cbb7578c8362fda8b"
      }
     },
     "metadata": {},
     "output_type": "display_data"
    }
   ],
   "source": [
    "from IPython.display import clear_output\n",
    "from ipywidgets import Output\n",
    "\n",
    "out = None\n",
    "\n",
    "def get_random_album(btn):\n",
    "    \"\"\" Generate and display a random album. \"\"\"\n",
    "    global out\n",
    "    if out is not None:\n",
    "        out.clear_output(wait=True)\n",
    "    else:\n",
    "        out = Output()\n",
    "        display(out)\n",
    "        \n",
    "    artist =  lib.get_random_artists(1)[0]\n",
    "    album =  lib.get_random_albums(artist, 1)[0]\n",
    "    lib.get_album_summary_html(artist, album, out)\n",
    "\n",
    "btn = widgets.Button(description='Display a random album')\n",
    "btn.on_click(get_random_album)\n",
    "btn"
   ]
  },
  {
   "cell_type": "markdown",
   "metadata": {},
   "source": [
    "## Random Albums"
   ]
  },
  {
   "cell_type": "code",
   "execution_count": 14,
   "metadata": {},
   "outputs": [
    {
     "name": "stdout",
     "output_type": "stream",
     "text": [
      "Gary Moore: 1 albums\n",
      "    Back On The Streets\n",
      "Infected Mushroom: 9 albums\n",
      "    Return to the Sauce\n",
      "    I'm The Supervisor\n",
      "    Vicious Delicious\n",
      "    Converting Vegetarians - The Other Side\n",
      "    Legend Of The Black Shawarma\n",
      "    Classical Mushroom\n",
      "    B.P. Empire\n",
      "    Army of Mushrooms\n",
      "    Converting Vegetarians - Trance Side\n",
      "George Michael: 1 albums\n",
      "    Older\n",
      "Def Leppard: 2 albums\n",
      "    Retro Active\n",
      "    Vault\n",
      "Beck: 1 albums\n",
      "    Odelay!\n"
     ]
    }
   ],
   "source": [
    "artists = lib.get_random_artists(5)\n",
    "for artist in artists:\n",
    "    albums = lib.albums(artist)\n",
    "    print(\"{0}: {1} albums\".format(artist, len(albums)))\n",
    "    [print(\"    {0}\".format(album)) for album in albums]"
   ]
  },
  {
   "cell_type": "markdown",
   "metadata": {},
   "source": [
    "[Back to top](#Introduction \"Back the top of the page\")"
   ]
  },
  {
   "cell_type": "markdown",
   "metadata": {},
   "source": [
    "## Random Album and Cover"
   ]
  },
  {
   "cell_type": "code",
   "execution_count": 21,
   "metadata": {},
   "outputs": [
    {
     "name": "stdout",
     "output_type": "stream",
     "text": [
      "DMX: Grand Champ\n",
      "01 Dog Quick (Intro).mp3\n",
      "02 My life Feat Chinky.mp3\n",
      "03 Where the Hood.mp3\n",
      "04 Dogs Out.mp3\n",
      "05 Get it on the Floor.mp3\n",
      "06 Come Prepared.mp3\n",
      "07 Shot Down.mp3\n",
      "08 Bring the Noize.mp3\n",
      "09 Untouchable.mp3\n",
      "10 Fuck all Ya'll.mp3\n",
      "11 Ruff Radio.mp3\n",
      "12 We are Back.mp3\n",
      "13 Ruff Radio 2.mp3\n",
      "14 Rob all Night.mp3\n",
      "15 We go Hard.mp3\n",
      "16 We boutto blow.mp3\n",
      "17 The Rain.mp3\n",
      "18 Gotta Go (Skit).mp3\n",
      "19 Don't gotta go.mp3\n",
      "20 A Yo Kato.mp3\n",
      "21 Thank U.mp3\n",
      "22 The Prayer V.mp3\n",
      "23 On Top.mp3\n"
     ]
    },
    {
     "data": {
      "application/vnd.jupyter.widget-view+json": {
       "model_id": "afdc1dade67b47119306763a58def2d3"
      }
     },
     "metadata": {},
     "output_type": "display_data"
    }
   ],
   "source": [
    "# Get a random artist, a random album and list the tracks\n",
    "\n",
    "artist =  lib.get_random_artists(1)[0]\n",
    "album =  lib.get_random_albums(artist, 1)[0]\n",
    "print(\"{0}: {1}\".format(artist, album))\n",
    "[print(track) for track in lib.get_album_tracks(artist, album)]\n",
    "lib.get_album_cover(artist, album, 200)\n"
   ]
  },
  {
   "cell_type": "markdown",
   "metadata": {},
   "source": [
    "[Back to top](#Introduction \"Back the top of the page\")"
   ]
  },
  {
   "cell_type": "code",
   "execution_count": 25,
   "metadata": {},
   "outputs": [
    {
     "name": "stdout",
     "output_type": "stream",
     "text": [
      "Variable           Type                          Data/Info\n",
      "----------------------------------------------------------\n",
      "HTML               type                          <class 'IPython.core.display.HTML'>\n",
      "MusicLib           type                          <class '__main__.MusicLib'>\n",
      "Output             MetaHasTraits                 <class 'ipywidgets.widgets.widget_output.Output'>\n",
      "Templates          type                          <class '__main__.Templates'>\n",
      "basename           function                      <function basename at 0x7f0d7ac07620>\n",
      "btn                Button                        <ipywidgets.widgets.widge<...>object at 0x7f0d606df400>\n",
      "clear_output       function                      <function clear_output at 0x7f0d77264378>\n",
      "dedent             function                      <function dedent at 0x7f0d77f29048>\n",
      "display            function                      <function display at 0x7f0d77259a60>\n",
      "exists             function                      <function exists at 0x7f0d7ac5dae8>\n",
      "get_random_album   function                      <function get_random_album at 0x7f0d61fbc620>\n",
      "glob               function                      <function glob at 0x7f0d78b81048>\n",
      "isdir              function                      <function isdir at 0x7f0d7ac5d9d8>\n",
      "join               function                      <function join at 0x7f0d7ac07400>\n",
      "lib                MusicLib                      <__main__.MusicLib object at 0x7f0d606eb908>\n",
      "library            str                           /home/fruitbat/Music/\n",
      "listdir            builtin_function_or_method    <built-in function listdir>\n",
      "out                Output                        <ipywidgets.widgets.widge<...>object at 0x7f0d606df438>\n",
      "sample             method                        <bound method Random.samp<...>dom object at 0x116abc8>>\n",
      "widgets            module                        <module 'ipywidgets' from<...>/ipywidgets/__init__.py'>\n"
     ]
    }
   ],
   "source": [
    "%whos"
   ]
  },
  {
   "cell_type": "code",
   "execution_count": null,
   "metadata": {},
   "outputs": [],
   "source": []
  }
 ],
 "metadata": {
  "kernelspec": {
   "display_name": "Python 3",
   "language": "python",
   "name": "python3"
  },
  "language_info": {
   "codemirror_mode": {
    "name": "ipython",
    "version": 3
   },
   "file_extension": ".py",
   "mimetype": "text/x-python",
   "name": "python",
   "nbconvert_exporter": "python",
   "pygments_lexer": "ipython3",
   "version": "3.6.6"
  },
  "toc": {
   "base_numbering": 1,
   "nav_menu": {},
   "number_sections": false,
   "sideBar": true,
   "skip_h1_title": false,
   "title_cell": "Table of Contents",
   "title_sidebar": "Contents",
   "toc_cell": false,
   "toc_position": {},
   "toc_section_display": true,
   "toc_window_display": false
  }
 },
 "nbformat": 4,
 "nbformat_minor": 2
}
