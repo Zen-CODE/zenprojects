{
 "cells": [
  {
   "cell_type": "markdown",
   "metadata": {},
   "source": [
    "# Music\n",
    "<img src=\"Music/Y4_Large_reduc.jpg\" align=\"right\" width=\"64\" height=\"64\" />\n",
    "\n",
    "Zen's Music Playround"
   ]
  },
  {
   "cell_type": "markdown",
   "metadata": {},
   "source": [
    "# Introduction\n",
    "\n",
    "This page contains some experiments with Jupyter and playing with my music collection. To play happily, we have divided this page into multiple sections.\n",
    "\n",
    "These sections are:\n",
    "* [Setup](#Setup \"Load the Music Library class and variables\")\n",
    "* [Get random albums](#Random-Albums \"Get 5 random albums\")\n",
    "* [Get random album and cover](#Random-Album-and-Cover \"Get a random album and it's track listing.\")\n",
    "* [SVG Demo](#SVG-Demo)\n",
    "\n",
    "For useful help, you can check out:\n",
    "* The [Jupyter Widget List](https://ipywidgets.readthedocs.io/en/stable/examples/Widget%20List.html)\n"
   ]
  },
  {
   "cell_type": "markdown",
   "metadata": {},
   "source": [
    "## Setup\n",
    "\n",
    "Execute the cell below to instantiate the MusicLib class and make it available as *lib*."
   ]
  },
  {
   "cell_type": "code",
   "execution_count": 12,
   "metadata": {},
   "outputs": [],
   "source": [
    "from os import listdir\n",
    "from os.path import join, isdir, exists, basename\n",
    "from random import sample\n",
    "from glob import glob\n",
    "import ipywidgets as widgets\n",
    "from IPython.core.display import HTML, display\n",
    "from textwrap import dedent\n",
    "import codecs\n",
    "\n",
    "class Templates(object):\n",
    "    \"\"\"\n",
    "    This class defines varios HTML templates as constants from output in\n",
    "    the MusicLib class.\n",
    "    \"\"\"\n",
    "    @staticmethod\n",
    "    def get_album():\n",
    "        \"\"\"\n",
    "        Return the HTML for an album template. The template has placeholders\n",
    "        for 'artist', 'album' and 'tracks'.\n",
    "        \"\"\"\n",
    "        return dedent('''\n",
    "            <table>\n",
    "                <tr>\n",
    "                  <th><b>{artist}</b></th>\n",
    "                  <th><b>{album}</b></th>\n",
    "                </tr>\n",
    "                <tr>\n",
    "                  <td>{cover}</td>\n",
    "                  <td>{tracks}</td>\n",
    "                </tr>            \n",
    "            </table>\n",
    "        ''')\n",
    "    \n",
    "    @staticmethod\n",
    "    def get_image():\n",
    "        \"\"\"\n",
    "        Return the HTML for the album cover with a placeholder for\n",
    "        'base64'\n",
    "        \"\"\"\n",
    "        return '<img alt=\"Image\" src=\"data:image/png;base64,{base64}\"'\\\n",
    "            ' width=\"300px\" height=\"300px\" />'\n",
    "    \n",
    "class MusicLib(object):\n",
    "    \"\"\"\n",
    "    Class for fetching information about our music library, as an experiment\n",
    "    in jupyter\n",
    "    \"\"\"\n",
    "\n",
    "    def __init__(self, path):\n",
    "        self.path = path \n",
    "    \n",
    "    def artists(self):\n",
    "        \"\"\" Return a list of lartists. \"\"\"\n",
    "        return [name for name in listdir(self.path) if isdir(join(self.path, name))]\n",
    "\n",
    "    def get_random_artists(self, number):\n",
    "        \"\"\" Return a random list of *number* artists. \"\"\"\n",
    "        artists = self.artists()\n",
    "        return sample(artists, number)\n",
    "\n",
    "    def get_random_albums(self, artist, number):\n",
    "        \"\"\" Return a random list of *number* albums by *artist*. \"\"\"\n",
    "        albums = self.albums(artist)\n",
    "        return sample(albums, number)\n",
    "\n",
    "    def albums(self, artist):\n",
    "        \"\"\" Return a list of albums for the *artist*. \"\"\"\n",
    "        path = join(self.path, artist)\n",
    "        return [name for name in listdir(path) if isdir(join(path, name))]\n",
    "    \n",
    "    def get_album_cover(self, artist, album, size=300):\n",
    "        \"\"\"\n",
    "        Return the album cover for the specified album. Return an IPython widget\n",
    "        if path is False, otherwise it returns the full fiel path.\n",
    "        \"\"\"\n",
    "        path = join(self.path, artist, album)\n",
    "        pattern = \"cover.*\"\n",
    "        matches = glob(join(path, pattern))\n",
    "        if matches:\n",
    "            fname = matches[0]\n",
    "            with open(fname, \"rb\") as f:\n",
    "                b64 = codecs.encode(f.read(), 'base64')\n",
    "                html = Templates.get_image()\n",
    "                # return HTML(html.format(**{'base64': str(b64, 'ascii')}))\n",
    "                return html.format(**{'base64': str(b64, 'ascii')})\n",
    "                \n",
    "    def get_album_tracks(self, artist, album):\n",
    "        \"\"\" Return a list of the album tracks\"\"\"\n",
    "        def get_name(fname):\n",
    "            \"\"\"\"Return the nice, cleaned name of the track\"\"\"\n",
    "            return basename(fname)  # [:-4]\n",
    "        \n",
    "        path = join(self.path, artist, album)\n",
    "        pattern = \"*.mp3\"\n",
    "        matches = glob(join(path, pattern))        \n",
    "        return sorted([get_name(f) for f in matches])\n",
    "\n",
    "    def get_album_summary(self, artist, album):\n",
    "        \"\"\" Return a pretty album summary \"\"\"\n",
    "        cover = self.get_album_cover(artist, album)\n",
    "        items = [widgets.Label(\"{0}: {1}\".format(artist, album))]\n",
    "        [items.append(widgets.Label(track, width=200)) for track in self.get_album_tracks(artist,\n",
    "                                                                album)]\n",
    "        right = widgets.VBox(items, width=300)\n",
    "        return widgets.HBox([cover, right])\n",
    "\n",
    "    def get_album_summary_html(self, artist, album, out):\n",
    "        \"\"\" Return a pretty album summary \"\"\"\n",
    "        with out:\n",
    "            data = {'artist': artist,\n",
    "                    'album': album}\n",
    "            cover = self.get_album_cover(artist, album)       \n",
    "            tracks = [track for track in self.get_album_tracks(artist, album)]\n",
    "            data['tracks'] = \"<br/>\".join(tracks)\n",
    "            data['cover'] = cover\n",
    "            html = HTML(Templates.get_album().format(**data))\n",
    "            display(html)\n",
    "            \n",
    "\n",
    "library = \"/home/fruitbat/Music/\"\n",
    "lib = MusicLib(library)           "
   ]
  },
  {
   "cell_type": "markdown",
   "metadata": {},
   "source": [
    "[Back to top](#Introduction \"Back the top of the page\")"
   ]
  },
  {
   "cell_type": "code",
   "execution_count": 15,
   "metadata": {},
   "outputs": [
    {
     "data": {
      "application/vnd.jupyter.widget-view+json": {
       "model_id": "7480f06443bf403e8b694ed1389460b4"
      }
     },
     "metadata": {},
     "output_type": "display_data"
    },
    {
     "data": {
      "application/vnd.jupyter.widget-view+json": {
       "model_id": "1e2e1cb0d3b64962a6e8b9ed9d5c4566"
      }
     },
     "metadata": {},
     "output_type": "display_data"
    },
    {
     "name": "stdout",
     "output_type": "stream",
     "text": [
      "Enqueue\n",
      "Enqueue\n"
     ]
    }
   ],
   "source": [
    "from IPython.display import clear_output\n",
    "from ipywidgets import Output\n",
    "\n",
    "class RandomAlbum(object):\n",
    "    \"\"\" Convenience class for genration a random album dislay\"\"\"\n",
    "    out = None\n",
    "    artist = None\n",
    "    album = None\n",
    "    \n",
    "    def get(self):\n",
    "        \"\"\" Generate and display a random album. \"\"\"\n",
    "        if RandomAlbum.out is not None:\n",
    "            RandomAlbum.out.clear_output(wait=True)\n",
    "        else:\n",
    "            RandomAlbum.out = Output()\n",
    "            display(RandomAlbum.out)\n",
    "\n",
    "        self.artist =  lib.get_random_artists(1)[0]\n",
    "        self.album =  lib.get_random_albums(self.artist, 1)[0]\n",
    "        lib.get_album_summary_html(self.artist,\n",
    "                                   self.album,\n",
    "                                   RandomAlbum.out)\n",
    "    \n",
    "    def enqueue(self):\n",
    "        \"\"\" Add the currently displayed album to the audacious\n",
    "        queue. \"\"\"\n",
    "        print(\"Enqueue\")\n",
    "        \n",
    "btn1 = widgets.Button(description='Display a random album')\n",
    "btn1.on_click(lambda dt: RandomAlbum().get())\n",
    "btn2 = widgets.Button(description='Enqueue album')\n",
    "btn2.on_click(lambda dt: RandomAlbum().enqueue())\n",
    "widgets.HBox([btn1, btn2])"
   ]
  },
  {
   "cell_type": "markdown",
   "metadata": {},
   "source": [
    "[Back to top](#Introduction \"Back the top of the page\")"
   ]
  },
  {
   "cell_type": "markdown",
   "metadata": {},
   "source": [
    "## Random Albums"
   ]
  },
  {
   "cell_type": "code",
   "execution_count": 13,
   "metadata": {},
   "outputs": [
    {
     "data": {
      "application/vnd.jupyter.widget-view+json": {
       "model_id": "9388006ca0e54a4d9d032bbed90b37b7"
      }
     },
     "metadata": {},
     "output_type": "display_data"
    }
   ],
   "source": [
    "outAlbums = None\n",
    "\n",
    "def show_random_albums():\n",
    "    global outAlbums\n",
    "    if outAlbums is not None:\n",
    "        outAlbums.clear_output(wait=True)\n",
    "    else:\n",
    "        outAlbums = Output()\n",
    "        display(outAlbums)    \n",
    "    \n",
    "    with outAlbums:\n",
    "        artists = lib.get_random_artists(5)\n",
    "        for artist in artists:\n",
    "            albums = lib.albums(artist)\n",
    "            print(\"{0}: {1} albums\".format(artist, len(albums)))\n",
    "            [print(\"    {0}\".format(album)) for album in albums]\n",
    "            # [lib.get_album_summary_html(artist, album, outAlbums) for album in albums]\n",
    "\n",
    "show_random_albums()"
   ]
  },
  {
   "cell_type": "markdown",
   "metadata": {},
   "source": [
    "[Back to top](#Introduction \"Back the top of the page\")"
   ]
  },
  {
   "cell_type": "markdown",
   "metadata": {},
   "source": [
    "## SVG Demo\n",
    "\n",
    "The cell below demonstrates the inline SVG ability of the notebook..."
   ]
  },
  {
   "cell_type": "code",
   "execution_count": 155,
   "metadata": {},
   "outputs": [
    {
     "data": {
      "image/svg+xml": [
       "<svg height=\"100\" width=\"100\">\n",
       "  <circle cx=\"50\" cy=\"50\" fill=\"yellow\" r=\"40\" stroke=\"green\" stroke-width=\"2\"/>\n",
       "</svg>"
      ],
      "text/plain": [
       "<IPython.core.display.SVG object>"
      ]
     },
     "execution_count": 155,
     "metadata": {},
     "output_type": "execute_result"
    }
   ],
   "source": [
    "from IPython.display import SVG\n",
    "SVG(data='''\n",
    "<svg width=\"100\" height=\"100\">\n",
    "  <circle cx=\"50\" cy=\"50\" r=\"40\" stroke=\"green\" stroke-width=\"2\" fill=\"yellow\" />\n",
    "</svg>\n",
    "''')\n"
   ]
  },
  {
   "cell_type": "markdown",
   "metadata": {},
   "source": [
    "[Back to top](#Introduction \"Back the top of the page\")"
   ]
  },
  {
   "cell_type": "code",
   "execution_count": null,
   "metadata": {},
   "outputs": [],
   "source": []
  }
 ],
 "metadata": {
  "kernelspec": {
   "display_name": "Python 3",
   "language": "python",
   "name": "python3"
  },
  "language_info": {
   "codemirror_mode": {
    "name": "ipython",
    "version": 3
   },
   "file_extension": ".py",
   "mimetype": "text/x-python",
   "name": "python",
   "nbconvert_exporter": "python",
   "pygments_lexer": "ipython3",
   "version": "3.6.6"
  },
  "toc": {
   "base_numbering": 1,
   "nav_menu": {},
   "number_sections": false,
   "sideBar": true,
   "skip_h1_title": false,
   "title_cell": "Table of Contents",
   "title_sidebar": "Contents",
   "toc_cell": false,
   "toc_position": {},
   "toc_section_display": true,
   "toc_window_display": false
  }
 },
 "nbformat": 4,
 "nbformat_minor": 2
}
