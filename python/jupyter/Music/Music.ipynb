{
 "cells": [
  {
   "cell_type": "markdown",
   "metadata": {},
   "source": [
    "# Music\n",
    "<img src=\"Music/Y4_Large_reduc.jpg\" align=\"right\" width=\"64\" height=\"64\" />\n",
    "\n",
    "Zen's Music Playround"
   ]
  },
  {
   "cell_type": "markdown",
   "metadata": {},
   "source": [
    "# Introduction\n",
    "\n",
    "This page contains some experiments with Jupyter and playing with my music collection. To play happily, we have divided this page into multiple sections.\n",
    "\n",
    "These sections are:\n",
    "* [Setup](#Setup \"Load the Music Library class and variables\")\n",
    "* [Get random albums](#Random-Albums \"Get 5 random albums\")\n",
    "* [Get random album and cover](#Random-Album-and-Cover \"Get a random album and it's track listing.\")\n",
    "\n",
    "For useful help, you can check out:\n",
    "* The [Jupyter Widget List](https://ipywidgets.readthedocs.io/en/stable/examples/Widget%20List.html)\n"
   ]
  },
  {
   "cell_type": "markdown",
   "metadata": {},
   "source": [
    "## Setup\n",
    "\n",
    "Execute the cell below to instantiate the MusicLib class and make it available as *lib*."
   ]
  },
  {
   "cell_type": "code",
   "execution_count": 15,
   "metadata": {},
   "outputs": [],
   "source": [
    "from os import listdir\n",
    "from os.path import join, isdir, exists, basename\n",
    "from random import sample\n",
    "from glob import glob\n",
    "import ipywidgets as widgets\n",
    "\n",
    "\n",
    "class MusicLib(object):\n",
    "    \"\"\"\n",
    "    Class for fetching information about our music library, as an experiment\n",
    "    in jupyter\n",
    "    \"\"\"\n",
    "   \n",
    "    def __init__(self, path):\n",
    "       self.path = path \n",
    "    \n",
    "    def artists(self):\n",
    "        \"\"\" Return a list of lartists. \"\"\"\n",
    "        return [name for name in listdir(self.path) if isdir(join(self.path, name))]\n",
    "\n",
    "    def get_random_artists(self, number):\n",
    "        \"\"\" Return a random list of *number* artists. \"\"\"\n",
    "        artists = self.artists()\n",
    "        return sample(artists, number)\n",
    "\n",
    "    def get_random_albums(self, artist, number):\n",
    "        \"\"\" Return a random list of *number* albums by *artist*. \"\"\"\n",
    "        albums = self.albums(artist)\n",
    "        return sample(albums, number)\n",
    "\n",
    "    def albums(self, artist):\n",
    "        \"\"\" Return a list of albums for the *artist*. \"\"\"\n",
    "        path = join(self.path, artist)\n",
    "        return [name for name in listdir(path) if isdir(join(path, name))]\n",
    "    \n",
    "    def get_album_cover(self, artist, album, size=300):\n",
    "        \"\"\" Return the album cover for the specified album. \"\"\"\n",
    "        path = join(self.path, artist, album)\n",
    "        pattern = \"cover.*\"\n",
    "        matches = glob(join(path, pattern))\n",
    "        if matches:\n",
    "            fname = matches[0]\n",
    "            with open(fname, \"rb\") as f:\n",
    "                return widgets.Image(\n",
    "                    value=f.read(),\n",
    "                    format=fname[:-3],\n",
    "                    width=size,\n",
    "                    height=size,\n",
    "                )\n",
    "    def get_album_tracks(self, artist, album):\n",
    "        \"\"\" Return a list of the album tracks\"\"\"\n",
    "        def get_name(fname):\n",
    "            \"\"\"\"Return the nice, cleaned name of the track\"\"\"\n",
    "            return basename(fname)  # [:-4]\n",
    "        \n",
    "        path = join(self.path, artist, album)\n",
    "        pattern = \"*.mp3\"\n",
    "        matches = glob(join(path, pattern))        \n",
    "        return sorted([get_name(f) for f in matches])\n",
    "\n",
    "    def get_album_summary(self, artist, album):\n",
    "        \"\"\" Return a pretty album summary \"\"\"\n",
    "        cover = self.get_album_cover(artist, album)\n",
    "        items = [widgets.Label(\"{0}: {1}\".format(artist, album))]\n",
    "        [items.append(widgets.Label(track, width=200)) for track in self.get_album_tracks(artist,\n",
    "                                                                album)]\n",
    "        right = widgets.VBox(items, width=300)\n",
    "        return widgets.HBox([cover, right])\n",
    "    \n",
    "library = \"/home/fruitbat/Music/\"\n",
    "lib = MusicLib(library)           "
   ]
  },
  {
   "cell_type": "markdown",
   "metadata": {},
   "source": [
    "[Back to top](#Introduction \"Back the top of the page\")"
   ]
  },
  {
   "cell_type": "markdown",
   "metadata": {},
   "source": [
    "## Random Albums"
   ]
  },
  {
   "cell_type": "code",
   "execution_count": 14,
   "metadata": {},
   "outputs": [
    {
     "name": "stdout",
     "output_type": "stream",
     "text": [
      "Gary Moore: 1 albums\n",
      "    Back On The Streets\n",
      "Infected Mushroom: 9 albums\n",
      "    Return to the Sauce\n",
      "    I'm The Supervisor\n",
      "    Vicious Delicious\n",
      "    Converting Vegetarians - The Other Side\n",
      "    Legend Of The Black Shawarma\n",
      "    Classical Mushroom\n",
      "    B.P. Empire\n",
      "    Army of Mushrooms\n",
      "    Converting Vegetarians - Trance Side\n",
      "George Michael: 1 albums\n",
      "    Older\n",
      "Def Leppard: 2 albums\n",
      "    Retro Active\n",
      "    Vault\n",
      "Beck: 1 albums\n",
      "    Odelay!\n"
     ]
    }
   ],
   "source": [
    "artists = lib.get_random_artists(5)\n",
    "for artist in artists:\n",
    "    albums = lib.albums(artist)\n",
    "    print(\"{0}: {1} albums\".format(artist, len(albums)))\n",
    "    [print(\"    {0}\".format(album)) for album in albums]"
   ]
  },
  {
   "cell_type": "markdown",
   "metadata": {},
   "source": [
    "[Back to top](#Introduction \"Back the top of the page\")"
   ]
  },
  {
   "cell_type": "markdown",
   "metadata": {},
   "source": [
    "## Random Album and Cover"
   ]
  },
  {
   "cell_type": "code",
   "execution_count": 13,
   "metadata": {},
   "outputs": [
    {
     "name": "stdout",
     "output_type": "stream",
     "text": [
      "James: Laid\n",
      "01 - Out To Get You.mp3\n",
      "02 - Sometimes (Lester Piggott).mp3\n",
      "03 - Dream Thrum.mp3\n",
      "04 - One Of The Three.mp3\n",
      "05 - Say Something.mp3\n",
      "06 - Five-O.mp3\n",
      "07 - P.S..mp3\n",
      "08 - Everybody Knows.mp3\n",
      "09 - Knuckle Too Far.mp3\n",
      "10 - Low Low Low.mp3\n",
      "11 - Laid.mp3\n",
      "12 - Lullaby.mp3\n",
      "13 - Skindiving.mp3\n"
     ]
    },
    {
     "data": {
      "application/vnd.jupyter.widget-view+json": {
       "model_id": "63dc1b0de9c34c0fbb05acda2a267775"
      }
     },
     "metadata": {},
     "output_type": "display_data"
    }
   ],
   "source": [
    "artist =  lib.get_random_artists(1)[0]\n",
    "album =  lib.get_random_albums(artist, 1)[0]\n",
    "print(\"{0}: {1}\".format(artist, album))\n",
    "[print(track) for track in lib.get_album_tracks(artist, album)]\n",
    "lib.get_album_cover(artist, album, 200)\n"
   ]
  },
  {
   "cell_type": "markdown",
   "metadata": {},
   "source": [
    "[Back to top](#Introduction \"Back the top of the page\")"
   ]
  }
 ],
 "metadata": {
  "kernelspec": {
   "display_name": "Python 3",
   "language": "python",
   "name": "python3"
  },
  "language_info": {
   "codemirror_mode": {
    "name": "ipython",
    "version": 3
   },
   "file_extension": ".py",
   "mimetype": "text/x-python",
   "name": "python",
   "nbconvert_exporter": "python",
   "pygments_lexer": "ipython3",
   "version": "3.6.6"
  },
  "toc": {
   "base_numbering": 1,
   "nav_menu": {},
   "number_sections": false,
   "sideBar": true,
   "skip_h1_title": false,
   "title_cell": "Table of Contents",
   "title_sidebar": "Contents",
   "toc_cell": false,
   "toc_position": {},
   "toc_section_display": true,
   "toc_window_display": false
  }
 },
 "nbformat": 4,
 "nbformat_minor": 2
}
