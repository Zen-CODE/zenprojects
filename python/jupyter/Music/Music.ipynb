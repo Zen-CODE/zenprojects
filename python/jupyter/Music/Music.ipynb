{
 "cells": [
  {
   "cell_type": "markdown",
   "metadata": {},
   "source": [
    "# Music\n",
    "<img src=\"Music/Y4_Large_reduc.jpg\" align=\"right\" width=\"64\" height=\"64\" />\n",
    "\n",
    "Zen's Music Playround"
   ]
  },
  {
   "cell_type": "code",
   "execution_count": 40,
   "metadata": {},
   "outputs": [
    {
     "name": "stdout",
     "output_type": "stream",
     "text": [
      "Tom Waits has 1 album\n",
      "    Bone Machine\n",
      "Roots Manuva has 1 album\n",
      "    Run Come Save Me\n",
      "Malmaison has 1 album\n",
      "    Ecoutez Et Repetez Deux 2\n",
      "Sibot has 1 album\n",
      "    The Real Estate Agents\n",
      "Kings X has 1 album\n",
      "    The Best Of Kings X\n"
     ]
    }
   ],
   "source": [
    "library = \"/home/fruitbat/Zen/Music/\"\n",
    "\n",
    "lib = MusicLib(library)\n",
    "# print(\"Artists = {0}\".format(lib.artists()))\n",
    "artists = lib.get_random_artists(5)\n",
    "# print(\"Random Artists = {0}\".format(artists))\n",
    "for artist in artists:\n",
    "    albums = lib.albums(artist)\n",
    "    print(\"{0} has {1} album\".format(artist, len(albums)))\n",
    "    [print(\"    {0}\".format(album)) for album in albums]"
   ]
  },
  {
   "cell_type": "code",
   "execution_count": 41,
   "metadata": {},
   "outputs": [
    {
     "data": {
      "application/vnd.jupyter.widget-view+json": {
       "model_id": "cd9c0953da244001891571adcd00ee43"
      }
     },
     "metadata": {},
     "output_type": "display_data"
    }
   ],
   "source": [
    "import ipywidgets as widgets\n",
    "\n",
    "def on_click(_button):\n",
    "    print(\"button click\")\n",
    "\n",
    "button = widgets.Button(\n",
    "    description='Click me',\n",
    "    disabled=False,\n",
    "    button_style='', # 'success', 'info', 'warning', 'danger' or ''\n",
    "    tooltip='Click me',\n",
    "    icon='check'\n",
    ")\n",
    "button.on_click(on_click)\n",
    "button\n"
   ]
  },
  {
   "cell_type": "code",
   "execution_count": 15,
   "metadata": {},
   "outputs": [],
   "source": [
    "from os import listdir\n",
    "from os.path import join, isdir\n",
    "from random import sample\n",
    "\n",
    "class MusicLib(object):\n",
    "    \"\"\"\n",
    "    Class for fetching information about our music library, as an experiment\n",
    "    in jupyter\n",
    "    \"\"\"\n",
    "   \n",
    "    def __init__(self, path):\n",
    "       self.path = path \n",
    "    \n",
    "    def artists(self):\n",
    "        \"\"\" Return a list of lartists. \"\"\"\n",
    "        return [name for name in listdir(self.path) if isdir(join(self.path, name))]\n",
    "\n",
    "    def get_random_artists(self, number):\n",
    "        \"\"\" Return a list of *number* random artists. \"\"\"\n",
    "        artists = self.artists()\n",
    "        return sample(artists, number)\n",
    "    \n",
    "    def albums(self, artist):\n",
    "        \"\"\" Return a list of albums for the *artist*. \"\"\"\n",
    "        path = join(self.path, artist)\n",
    "        return [name for name in listdir(path) if isdir(join(path, name))]\n",
    "    "
   ]
  }
 ],
 "metadata": {
  "kernelspec": {
   "display_name": "Python 3",
   "language": "python",
   "name": "python3"
  },
  "language_info": {
   "codemirror_mode": {
    "name": "ipython",
    "version": 3
   },
   "file_extension": ".py",
   "mimetype": "text/x-python",
   "name": "python",
   "nbconvert_exporter": "python",
   "pygments_lexer": "ipython3",
   "version": "3.6.6"
  },
  "toc": {
   "base_numbering": 1,
   "nav_menu": {},
   "number_sections": false,
   "sideBar": true,
   "skip_h1_title": false,
   "title_cell": "Table of Contents",
   "title_sidebar": "Contents",
   "toc_cell": false,
   "toc_position": {},
   "toc_section_display": true,
   "toc_window_display": false
  }
 },
 "nbformat": 4,
 "nbformat_minor": 2
}
