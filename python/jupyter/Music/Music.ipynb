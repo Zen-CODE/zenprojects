{
 "cells": [
  {
   "cell_type": "markdown",
   "metadata": {},
   "source": [
    "# Music\n",
    "<img src=\"Music/Y4_Large_reduc.jpg\" align=\"right\" width=\"64\" height=\"64\" />\n",
    "\n",
    "Zen's Music Playround"
   ]
  },
  {
   "cell_type": "code",
   "execution_count": 7,
   "metadata": {},
   "outputs": [
    {
     "data": {
      "application/vnd.jupyter.widget-view+json": {
       "model_id": "d041e2cfc1434e9da0cd926ecd4fbe86"
      }
     },
     "metadata": {},
     "output_type": "display_data"
    },
    {
     "name": "stdout",
     "output_type": "stream",
     "text": [
      "Cavalera Conspiracy: Psychosis\n",
      "In Flames: 10 albums\n",
      "    Come Clarity\n",
      "    Clayman\n",
      "    Reroute To Remain\n",
      "    Trigger Ep\n",
      "    A Sense Of Purpose\n",
      "    Whoracle\n",
      "    Siren Charms\n",
      "    Sounds Of A Playground Fading\n",
      "    Soundtrack To Your Escape\n",
      "    Colony\n",
      "Janet Jackson: 2 albums\n",
      "    Design Of A Decade 1986-1996\n",
      "    Damita Jo\n",
      "Herbaliser: 2 albums\n",
      "    Blow Your Headphones\n",
      "    Something Wicked This Way Comes\n",
      "Keith Jarret: 2 albums\n",
      "    Tokyo 96\n",
      "    Koln 1975\n",
      "Cure: 5 albums\n",
      "    The Head On The Door\n",
      "    Disintegration\n",
      "    Staring At The Sea\n",
      "    Kiss Me, Kiss Me, Kiss Me\n",
      "    Seventeen Seconds\n"
     ]
    }
   ],
   "source": [
    "import ipywidgets as widgets\n",
    "\n",
    "def on_click(_button):\n",
    "    [exec(In[i]) for i in [6, 3, 4]]\n",
    "\n",
    "button = widgets.Button(description='Load all cells')\n",
    "button.on_click(on_click)\n",
    "button"
   ]
  },
  {
   "cell_type": "code",
   "execution_count": 55,
   "metadata": {},
   "outputs": [
    {
     "name": "stdout",
     "output_type": "stream",
     "text": [
      "Ekoplex: Discovering The Ancient\n",
      "01 - Turtle Island.mp3\n",
      "02 - Hip Shiva Wigga.mp3\n",
      "03 - Follow The Music.mp3\n",
      "04 - Shamanic Drumz.mp3\n",
      "05 - Before The Sun.mp3\n",
      "06 - Aya.mp3\n",
      "07 - Shapeshifter.mp3\n",
      "08 - Crossroads.mp3\n",
      "09 - End Of The Cycle, Beginning Of....mp3\n"
     ]
    },
    {
     "data": {
      "application/vnd.jupyter.widget-view+json": {
       "model_id": "88bc97c05c7d445b81a4cf79a1d2dcc4"
      }
     },
     "metadata": {},
     "output_type": "display_data"
    }
   ],
   "source": [
    "artist =  lib.get_random_artists(1)[0]\n",
    "album =  lib.get_random_albums(artist, 1)[0]\n",
    "print(\"{0}: {1}\".format(artist, album))\n",
    "[print(track) for track in lib.get_album_tracks(artist, album)]\n",
    "lib.get_album_cover(artist, album, 200)\n",
    "# lib.get_album_summary(artist, album)"
   ]
  },
  {
   "cell_type": "code",
   "execution_count": 52,
   "metadata": {},
   "outputs": [
    {
     "name": "stdout",
     "output_type": "stream",
     "text": [
      "Paul Oakenfold: 5 albums\n",
      "    Travelling Disc 2\n",
      "    Travelling Disc 1\n",
      "    Bunkka\n",
      "    DJ Box September 2016\n",
      "    New York Undergound\n",
      "Eryka Badu: 1 albums\n",
      "    Baduizm\n",
      "Will Smith: 1 albums\n",
      "    Big Willie Style\n",
      "Psychedelic Furs: 3 albums\n",
      "    Mirror Moves\n",
      "    Midnight To Midnight\n",
      "    All Of This And Nothing\n",
      "Gabrielle: 1 albums\n",
      "    Gabrielle\n"
     ]
    }
   ],
   "source": [
    "# print(\"Artists = {0}\".format(lib.artists()))\n",
    "artists = lib.get_random_artists(5)\n",
    "# print(\"Random Artists = {0}\".format(artists))\n",
    "for artist in artists:\n",
    "    albums = lib.albums(artist)\n",
    "    print(\"{0}: {1} albums\".format(artist, len(albums)))\n",
    "    [print(\"    {0}\".format(album)) for album in albums]\n",
    "    "
   ]
  },
  {
   "cell_type": "code",
   "execution_count": 49,
   "metadata": {},
   "outputs": [],
   "source": [
    "from os import listdir\n",
    "from os.path import join, isdir, exists, basename\n",
    "from random import sample\n",
    "from glob import glob\n",
    "\n",
    "class MusicLib(object):\n",
    "    \"\"\"\n",
    "    Class for fetching information about our music library, as an experiment\n",
    "    in jupyter\n",
    "    \"\"\"\n",
    "   \n",
    "    def __init__(self, path):\n",
    "       self.path = path \n",
    "    \n",
    "    def artists(self):\n",
    "        \"\"\" Return a list of lartists. \"\"\"\n",
    "        return [name for name in listdir(self.path) if isdir(join(self.path, name))]\n",
    "\n",
    "    def get_random_artists(self, number):\n",
    "        \"\"\" Return a random list of *number* artists. \"\"\"\n",
    "        artists = self.artists()\n",
    "        return sample(artists, number)\n",
    "\n",
    "    def get_random_albums(self, artist, number):\n",
    "        \"\"\" Return a random list of *number* albums by *artist*. \"\"\"\n",
    "        albums = self.albums(artist)\n",
    "        return sample(albums, number)\n",
    "\n",
    "    def albums(self, artist):\n",
    "        \"\"\" Return a list of albums for the *artist*. \"\"\"\n",
    "        path = join(self.path, artist)\n",
    "        return [name for name in listdir(path) if isdir(join(path, name))]\n",
    "    \n",
    "    def get_album_cover(self, artist, album, size=300):\n",
    "        \"\"\" Return the album cover for the specified album. \"\"\"\n",
    "        path = join(self.path, artist, album)\n",
    "        pattern = \"cover.*\"\n",
    "        matches = glob(join(path, pattern))\n",
    "        if matches:\n",
    "            fname = matches[0]\n",
    "            with open(fname, \"rb\") as f:\n",
    "                return widgets.Image(\n",
    "                    value=f.read(),\n",
    "                    format=fname[:-3],\n",
    "                    width=size,\n",
    "                    height=size,\n",
    "                )\n",
    "    def get_album_tracks(self, artist, album):\n",
    "        \"\"\" Return a list of the album tracks\"\"\"\n",
    "        def get_name(fname):\n",
    "            \"\"\"\"Return the nice, cleaned name of the track\"\"\"\n",
    "            return basename(fname)  # [:-4]\n",
    "        \n",
    "        path = join(self.path, artist, album)\n",
    "        pattern = \"*.mp3\"\n",
    "        matches = glob(join(path, pattern))        \n",
    "        return sorted([get_name(f) for f in matches])\n",
    "\n",
    "    def get_album_summary(self, artist, album):\n",
    "        \"\"\" Return a pretty album summary \"\"\"\n",
    "        cover = self.get_album_cover(artist, album)\n",
    "        items = [widgets.Label(\"{0}: {1}\".format(artist, album))]\n",
    "        [items.append(widgets.Label(track, width=200)) for track in self.get_album_tracks(artist,\n",
    "                                                                album)]\n",
    "        right = widgets.VBox(items, width=300)\n",
    "        return widgets.HBox([cover, right])\n",
    "    \n",
    "library = \"/home/richard/Music/\"\n",
    "lib = MusicLib(library)           "
   ]
  },
  {
   "cell_type": "code",
   "execution_count": null,
   "metadata": {},
   "outputs": [],
   "source": []
  }
 ],
 "metadata": {
  "kernelspec": {
   "display_name": "Python 3",
   "language": "python",
   "name": "python3"
  },
  "language_info": {
   "codemirror_mode": {
    "name": "ipython",
    "version": 3
   },
   "file_extension": ".py",
   "mimetype": "text/x-python",
   "name": "python",
   "nbconvert_exporter": "python",
   "pygments_lexer": "ipython3",
   "version": "3.6.6"
  },
  "toc": {
   "base_numbering": 1,
   "nav_menu": {},
   "number_sections": false,
   "sideBar": true,
   "skip_h1_title": false,
   "title_cell": "Table of Contents",
   "title_sidebar": "Contents",
   "toc_cell": false,
   "toc_position": {},
   "toc_section_display": true,
   "toc_window_display": false
  }
 },
 "nbformat": 4,
 "nbformat_minor": 2
}
