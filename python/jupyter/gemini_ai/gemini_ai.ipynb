{
 "cells": [
  {
   "cell_type": "markdown",
   "metadata": {},
   "source": [
    "# Germini AI Demo"
   ]
  },
  {
   "cell_type": "markdown",
   "metadata": {},
   "source": [
    "## Setup"
   ]
  },
  {
   "cell_type": "code",
   "execution_count": 1,
   "metadata": {},
   "outputs": [],
   "source": [
    "# As dotenv does not load so reliably, we do it ourselves.\n",
    "from os import environ\n",
    "\n",
    "def load_dotenv():\n",
    "    \"\"\"Load all the valies in the.env file into the environment.\"\"\"\n",
    "    with open(\".env\", \"r\") as f:\n",
    "        for line in f.readlines():\n",
    "            parts = line.strip().split(\"=\")\n",
    "            environ[parts[0]] = parts[1]\n",
    "\n",
    "load_dotenv()\n"
   ]
  },
  {
   "cell_type": "markdown",
   "metadata": {},
   "source": [
    "## Basic Prompting"
   ]
  },
  {
   "cell_type": "markdown",
   "metadata": {},
   "source": [
    "This notebook contains some play code and interaction with Gemini AI via the \n",
    "Gemini API."
   ]
  },
  {
   "cell_type": "code",
   "execution_count": 2,
   "metadata": {},
   "outputs": [],
   "source": [
    "from google import genai\n",
    "import os\n",
    "\n",
    "GOOGLE_API_KEY=os.environ['GOOGLE_API_KEY']\n",
    "\n",
    "client = genai.Client(api_key=GOOGLE_API_KEY)\n",
    "def get_answer(prompt: str) -> str:\n",
    "    return client.models.generate_content(\n",
    "        model=\"gemini-2.0-flash\", contents=prompt)\n"
   ]
  },
  {
   "cell_type": "code",
   "execution_count": 3,
   "metadata": {},
   "outputs": [
    {
     "name": "stdout",
     "output_type": "stream",
     "text": [
      "response: candidates=[Candidate(content=Content(parts=[Part(video_metadata=None, thought=None, code_execution_result=None, executable_code=None, file_data=None, function_call=None, function_response=None, inline_data=None, text='The question of how many \"simple\" colors there are is a bit tricky because it depends on what you mean by \"simple.\" Here\\'s a breakdown of different ways to think about it:\\n\\n**1. Primary Colors (Traditional Subtractive):**\\n\\n*   **Red, Yellow, Blue:** These are the colors traditionally considered the primary colors in art and pigment mixing. All other colors can be created by mixing these. So, by this definition, there are **3** simple colors.\\n\\n**2. Primary Colors (Additive):**\\n\\n*   **Red, Green, Blue:** These are the primary colors of light (used in screens like TVs and computer monitors). Mixing these in different proportions creates a wide range of colors. So, by this definition, there are **3** simple colors.\\n\\n**3. Psychological Primaries (Unique Hues):**\\n\\n*   **Red, Green, Blue, Yellow:** Some color theories propose that these are the fundamental colors that humans perceive as \"pure\" or \"unique.\" We can\\'t describe red *as* a mix of other colors, for example (unlike orange, which we describe as a mix of red and yellow). This theory suggests **4** simple colors.\\n\\n**4. Basic Color Terms (Linguistic Approach):**\\n\\n*   This is the most complex. Linguists and anthropologists have studied how different cultures name colors. The number of basic color terms varies, but many languages have terms for:\\n    *   **Black, White, Red, Green, Yellow, Blue**\\n        *   If a language has only 2 color terms, it\\'s usually black and white (or dark and light).\\n        *   If it has 3, it\\'s often black, white, and red.\\n        *   Then green or yellow are added, followed by blue.\\n    *   Some languages also have basic terms for brown, orange, purple, pink, and gray.\\n    *   So, depending on the level, you could argue for anywhere from **2 to 11** \"simple\" colors based on language.\\n\\n**In summary:**\\n\\n*   There is no single universally agreed-upon number of \"simple\" colors.\\n*   The answer depends on the context: art, science, language, or psychology.\\n*   The most common answers are **3** (primary colors in art or light) or **4** (psychological primaries).\\n*   If we considered the most basic color terms in many languages, we could even say **6** .\\n\\nSo, to give the *best* answer, it really depends on how you define \"simple\". If I had to pick a single answer that\\'s often understood, I\\'d say **3 (Red, Yellow, Blue)** or **3 (Red, Green, Blue)** depending on context.\\n')], role='model'), citation_metadata=None, finish_message=None, token_count=None, avg_logprobs=-0.4494680287886639, finish_reason=<FinishReason.STOP: 'STOP'>, grounding_metadata=None, index=None, logprobs_result=None, safety_ratings=None)] create_time=None response_id=None model_version='gemini-2.0-flash' prompt_feedback=None usage_metadata=GenerateContentResponseUsageMetadata(cached_content_token_count=None, candidates_token_count=588, prompt_token_count=7, total_token_count=595) automatic_function_calling_history=[] parsed=None\n",
      "response: candidates=[Candidate(content=Content(parts=[Part(video_metadata=None, thought=None, code_execution_result=None, executable_code=None, file_data=None, function_call=None, function_response=None, inline_data=None, text='Please provide me with the list of colors you are referring to. I need the list to be able to tell you how many start with the letter \"b\".\\n')], role='model'), citation_metadata=None, finish_message=None, token_count=None, avg_logprobs=-0.25648264451460406, finish_reason=<FinishReason.STOP: 'STOP'>, grounding_metadata=None, index=None, logprobs_result=None, safety_ratings=None)] create_time=None response_id=None model_version='gemini-2.0-flash' prompt_feedback=None usage_metadata=GenerateContentResponseUsageMetadata(cached_content_token_count=None, candidates_token_count=33, prompt_token_count=14, total_token_count=47) automatic_function_calling_history=[] parsed=None\n"
     ]
    }
   ],
   "source": [
    "# By deafult, the client calls not not track history\n",
    "response1 = get_answer(\"How many simple colours are there?\")\n",
    "print(\"response: \" + str(response1))\n",
    "response1 = get_answer(\"And of those colours, how many start with the letter 'b'?\")\n",
    "print(\"response: \" + str(response1))\n"
   ]
  },
  {
   "cell_type": "code",
   "execution_count": null,
   "metadata": {},
   "outputs": [],
   "source": [
    "# Creating a chat\n",
    "from google import genai\n",
    "\n",
    "chat = client.chats.create(model=\"gemini-2.0-flash\")\n",
    "response = chat.send_message(\"How many simple colours are there?\")\n",
    "response = chat.send_message(\n",
    "    \"And of those colours, how many start with the letter 'b'?\")\n",
    "print(response.text)\n",
    "# for message in chat._curated_history:\n",
    "#     print(f'role - {message.role}' end=\": \")\n",
    "#     print(message.parts[0].text)"
   ]
  },
  {
   "cell_type": "markdown",
   "metadata": {},
   "source": [
    "## Configure text generation"
   ]
  },
  {
   "cell_type": "code",
   "execution_count": null,
   "metadata": {},
   "outputs": [],
   "source": [
    "from google.genai import types\n",
    "\n",
    "client = genai.Client(api_key=GOOGLE_API_KEY)\n",
    "\n",
    "response = client.models.generate_content(\n",
    "    model=\"gemini-2.0-flash\",\n",
    "    contents=[\"What is 1 + 1?\"],\n",
    "    config=types.GenerateContentConfig(\n",
    "        max_output_tokens=500,\n",
    "        temperature=0.1\n",
    "    )\n",
    ")\n",
    "print(response.text)"
   ]
  },
  {
   "cell_type": "markdown",
   "metadata": {},
   "source": [
    "## Adding Instructions"
   ]
  },
  {
   "cell_type": "code",
   "execution_count": null,
   "metadata": {},
   "outputs": [],
   "source": [
    "## Add system instructions\n",
    "# System instructions let you steer the behavior of a model based on your s\n",
    "# pecific needs and use cases. You provide the model additional context to\n",
    "# understand the task, generate more customized responses, and adhere to\n",
    "# specific guidelines over the full user interaction with the model.\n",
    "\n",
    "sys_instruct=\"You are a cat. Your name is Neko.\"\n",
    "# client = genai.Client(api_key=GOOGLE_API_KEY)\n",
    "\n",
    "response = client.models.generate_content(\n",
    "    model=\"gemini-2.0-flash\",\n",
    "    config=types.GenerateContentConfig(\n",
    "        system_instruction=sys_instruct),\n",
    "    contents=[\"What is 1 + 1?\"]\n",
    ")\n",
    "print(response.text)"
   ]
  },
  {
   "cell_type": "markdown",
   "metadata": {},
   "source": [
    "## Audio Processing"
   ]
  },
  {
   "cell_type": "code",
   "execution_count": 15,
   "metadata": {},
   "outputs": [
    {
     "name": "stdout",
     "output_type": "stream",
     "text": [
      "The audio clip appears to be a brief voicemail message left by a female speaker. She is inquiring if the recipient of the message is at home and if she and possibly someone else could come by that afternoon. She ends the message by saying \"Thanks, Bye.\"\n"
     ]
    }
   ],
   "source": [
    "from google import genai\n",
    "\n",
    "client = genai.Client()\n",
    "\n",
    "myfile = client.files.upload(file='media/Nataly.ogg')\n",
    "\n",
    "response = client.models.generate_content(\n",
    "  model='gemini-2.0-flash',\n",
    "  contents=['Describe this audio clip', myfile]\n",
    ")\n",
    "\n",
    "print(response.text)"
   ]
  },
  {
   "cell_type": "markdown",
   "metadata": {},
   "source": [
    "## Code Execution"
   ]
  },
  {
   "cell_type": "code",
   "execution_count": null,
   "metadata": {},
   "outputs": [],
   "source": [
    "from google.genai import types\n",
    "\n",
    "client = genai.Client(api_key=GOOGLE_API_KEY)\n",
    "\n",
    "response = client.models.generate_content(\n",
    "  model='gemini-2.0-flash',\n",
    "  contents='What is the sum of the first 50 prime numbers? '\n",
    "           'Generate and run code for the calculation, and make sure you get all 50.',\n",
    "  config=types.GenerateContentConfig(\n",
    "    tools=[types.Tool(\n",
    "      code_execution=types.ToolCodeExecution\n",
    "    )]\n",
    "  )\n",
    ")\n",
    "\n",
    "print(\"Text: \" + response.text)\n",
    "print(\"CodeExec: \" + str(response.code_execution_result))\n",
    "print(\"Code: \" + str(response.executable_code))\n"
   ]
  }
 ],
 "metadata": {
  "kernelspec": {
   "display_name": "gemini_ai_3.23.8",
   "language": "python",
   "name": "python3"
  },
  "language_info": {
   "codemirror_mode": {
    "name": "ipython",
    "version": 3
   },
   "file_extension": ".py",
   "mimetype": "text/x-python",
   "name": "python",
   "nbconvert_exporter": "python",
   "pygments_lexer": "ipython3",
   "version": "3.12.8"
  }
 },
 "nbformat": 4,
 "nbformat_minor": 2
}
