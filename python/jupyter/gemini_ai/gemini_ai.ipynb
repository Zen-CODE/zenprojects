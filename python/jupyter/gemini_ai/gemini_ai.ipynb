{
 "cells": [
  {
   "cell_type": "markdown",
   "metadata": {},
   "source": [
    "# Germini AI Demo"
   ]
  },
  {
   "cell_type": "code",
   "execution_count": null,
   "metadata": {},
   "outputs": [],
   "source": []
  },
  {
   "cell_type": "code",
   "execution_count": 11,
   "metadata": {},
   "outputs": [],
   "source": [
    "# As dotenv does not load so reliably, we do it ourselves.\n",
    "from os import environ\n",
    "\n",
    "def load_dotenv():\n",
    "    \"\"\"Load all the valies in the.env file into the environment.\"\"\"\n",
    "    with open(\".env\", \"r\") as f:\n",
    "        for line in f.readlines():\n",
    "            parts = line.strip().split(\"=\")\n",
    "            environ[parts[0]] = parts[1]\n",
    "\n",
    "load_dotenv()\n"
   ]
  },
  {
   "cell_type": "markdown",
   "metadata": {},
   "source": [
    "This notebook contains some play code and interaction with Gemini AI via the \n",
    "Gemini API."
   ]
  },
  {
   "cell_type": "code",
   "execution_count": null,
   "metadata": {},
   "outputs": [],
   "source": [
    "from google import genai\n",
    "import os\n",
    "\n",
    "GOOGLE_API_KEY=os.environ['GOOGLE_API_KEY']\n",
    "\n",
    "client = genai.Client(api_key=GOOGLE_API_KEY)\n",
    "def get_answer(prompt: str) -> str:\n",
    "    return client.models.generate_content(\n",
    "        model=\"gemini-2.0-flash\", contents=prompt)\n"
   ]
  },
  {
   "cell_type": "code",
   "execution_count": null,
   "metadata": {},
   "outputs": [],
   "source": [
    "# By deafult, the client calls not not track history\n",
    "response1 = get_answer(\"How many simple colours are there?\")\n",
    "print(\"response: \" + str(response1))\n",
    "response1 = get_answer(\"And of those colours, how many start with the letter 'b'?\")\n",
    "print(\"response: \" + str(response1))\n"
   ]
  },
  {
   "cell_type": "code",
   "execution_count": null,
   "metadata": {},
   "outputs": [],
   "source": [
    "# Creating a chat\n",
    "from google import genai\n",
    "\n",
    "chat = client.chats.create(model=\"gemini-2.0-flash\")\n",
    "response = chat.send_message(\"How many simple colours are there?\")\n",
    "response = chat.send_message(\n",
    "    \"And of those colours, how many start with the letter 'b'?\")\n",
    "print(response.text)\n",
    "# for message in chat._curated_history:\n",
    "#     print(f'role - {message.role}' end=\": \")\n",
    "#     print(message.parts[0].text)"
   ]
  },
  {
   "cell_type": "code",
   "execution_count": null,
   "metadata": {},
   "outputs": [],
   "source": [
    "# Configure text generation\n",
    "\n",
    "from google.genai import types\n",
    "\n",
    "client = genai.Client(api_key=GOOGLE_API_KEY)\n",
    "\n",
    "response = client.models.generate_content(\n",
    "    model=\"gemini-2.0-flash\",\n",
    "    contents=[\"What is 1 + 1?\"],\n",
    "    config=types.GenerateContentConfig(\n",
    "        max_output_tokens=500,\n",
    "        temperature=0.1\n",
    "    )\n",
    ")\n",
    "print(response.text)"
   ]
  },
  {
   "cell_type": "code",
   "execution_count": null,
   "metadata": {},
   "outputs": [],
   "source": [
    "## Add system instructions\n",
    "# System instructions let you steer the behavior of a model based on your s\n",
    "# pecific needs and use cases. You provide the model additional context to\n",
    "# understand the task, generate more customized responses, and adhere to\n",
    "# specific guidelines over the full user interaction with the model.\n",
    "\n",
    "sys_instruct=\"You are a cat. Your name is Neko.\"\n",
    "# client = genai.Client(api_key=GOOGLE_API_KEY)\n",
    "\n",
    "response = client.models.generate_content(\n",
    "    model=\"gemini-2.0-flash\",\n",
    "    config=types.GenerateContentConfig(\n",
    "        system_instruction=sys_instruct),\n",
    "    contents=[\"What is 1 + 1?\"]\n",
    ")\n",
    "print(response.text)"
   ]
  },
  {
   "cell_type": "markdown",
   "metadata": {},
   "source": [
    "## Audio Processing"
   ]
  },
  {
   "cell_type": "code",
   "execution_count": null,
   "metadata": {},
   "outputs": [],
   "source": [
    "from google import genai\n",
    "\n",
    "client = genai.Client()\n",
    "\n",
    "myfile = client.files.upload(file='media/Nataly.ogg')\n",
    "\n",
    "response = client.models.generate_content(\n",
    "  model='gemini-2.0-flash',\n",
    "  contents=['Describe this audio clip', myfile]\n",
    ")\n",
    "\n",
    "print(response.text)"
   ]
  }
 ],
 "metadata": {
  "kernelspec": {
   "display_name": "gemini_ai_3.23.8",
   "language": "python",
   "name": "python3"
  },
  "language_info": {
   "codemirror_mode": {
    "name": "ipython",
    "version": 3
   },
   "file_extension": ".py",
   "mimetype": "text/x-python",
   "name": "python",
   "nbconvert_exporter": "python",
   "pygments_lexer": "ipython3",
   "version": "3.12.8"
  }
 },
 "nbformat": 4,
 "nbformat_minor": 2
}
