{
 "cells": [
  {
   "cell_type": "markdown",
   "metadata": {},
   "source": [
    "# School of Hard Knocks\n",
    "\n",
    "This notebook is a dive into Machine Learning and Data Science by using a fake school of test data. By carefully and deliberately generating a fake school's test results, we can insert patterns, irregularities and trends and test our analysis to make sure we pick it up.\n"
   ]
  },
  {
   "cell_type": "code",
   "execution_count": 40,
   "metadata": {},
   "outputs": [],
   "source": [
    "# Required libraries and imports\n",
    "import pandas as pd\n",
    "import numpy as np\n",
    "import matplotlib.pyplot as plt\n",
    "import random"
   ]
  },
  {
   "cell_type": "code",
   "execution_count": 117,
   "metadata": {},
   "outputs": [
    {
     "data": {
      "text/html": [
       "<div>\n",
       "<style scoped>\n",
       "    .dataframe tbody tr th:only-of-type {\n",
       "        vertical-align: middle;\n",
       "    }\n",
       "\n",
       "    .dataframe tbody tr th {\n",
       "        vertical-align: top;\n",
       "    }\n",
       "\n",
       "    .dataframe thead th {\n",
       "        text-align: right;\n",
       "    }\n",
       "</style>\n",
       "<table border=\"1\" class=\"dataframe\">\n",
       "  <thead>\n",
       "    <tr style=\"text-align: right;\">\n",
       "      <th></th>\n",
       "      <th>Gender</th>\n",
       "      <th>Name</th>\n",
       "      <th>Score</th>\n",
       "    </tr>\n",
       "  </thead>\n",
       "  <tbody>\n",
       "    <tr>\n",
       "      <th>0</th>\n",
       "      <td>Female</td>\n",
       "      <td>Ashlee</td>\n",
       "      <td>40.867486</td>\n",
       "    </tr>\n",
       "    <tr>\n",
       "      <th>1</th>\n",
       "      <td>Female</td>\n",
       "      <td>Ernestina</td>\n",
       "      <td>58.248426</td>\n",
       "    </tr>\n",
       "    <tr>\n",
       "      <th>2</th>\n",
       "      <td>Female</td>\n",
       "      <td>Pansy</td>\n",
       "      <td>63.673367</td>\n",
       "    </tr>\n",
       "    <tr>\n",
       "      <th>3</th>\n",
       "      <td>Female</td>\n",
       "      <td>Starr</td>\n",
       "      <td>54.466595</td>\n",
       "    </tr>\n",
       "    <tr>\n",
       "      <th>4</th>\n",
       "      <td>Male</td>\n",
       "      <td>Gregorio</td>\n",
       "      <td>100.000000</td>\n",
       "    </tr>\n",
       "    <tr>\n",
       "      <th>5</th>\n",
       "      <td>Female</td>\n",
       "      <td>Louise</td>\n",
       "      <td>65.451580</td>\n",
       "    </tr>\n",
       "    <tr>\n",
       "      <th>6</th>\n",
       "      <td>Female</td>\n",
       "      <td>Meryl</td>\n",
       "      <td>98.417196</td>\n",
       "    </tr>\n",
       "    <tr>\n",
       "      <th>7</th>\n",
       "      <td>Male</td>\n",
       "      <td>Shannon</td>\n",
       "      <td>24.757626</td>\n",
       "    </tr>\n",
       "    <tr>\n",
       "      <th>8</th>\n",
       "      <td>Male</td>\n",
       "      <td>Dwayne</td>\n",
       "      <td>1.146803</td>\n",
       "    </tr>\n",
       "    <tr>\n",
       "      <th>9</th>\n",
       "      <td>Male</td>\n",
       "      <td>Clement</td>\n",
       "      <td>72.505586</td>\n",
       "    </tr>\n",
       "  </tbody>\n",
       "</table>\n",
       "</div>"
      ],
      "text/plain": [
       "   Gender       Name       Score\n",
       "0  Female     Ashlee   40.867486\n",
       "1  Female  Ernestina   58.248426\n",
       "2  Female      Pansy   63.673367\n",
       "3  Female      Starr   54.466595\n",
       "4    Male   Gregorio  100.000000\n",
       "5  Female     Louise   65.451580\n",
       "6  Female      Meryl   98.417196\n",
       "7    Male    Shannon   24.757626\n",
       "8    Male     Dwayne    1.146803\n",
       "9    Male    Clement   72.505586"
      ]
     },
     "execution_count": 117,
     "metadata": {},
     "output_type": "execute_result"
    }
   ],
   "source": [
    "from random import shuffle\n",
    "\n",
    "class Generator:\n",
    "    \"\"\"\n",
    "    Handles the generation of students results for analysis.\n",
    "    \"\"\"\n",
    "    \n",
    "    def __init__(self, limit):\n",
    "\n",
    "        self.students = self._get_students()\n",
    "            \n",
    "        self.limit = limit\n",
    "    \n",
    "    def _get_scores(self):\n",
    "        \"\"\" Return a list of appropriately generated scores. \"\"\"\n",
    "        def trunc(value):\n",
    "            if value < 0:\n",
    "                return 0\n",
    "            elif value > 100:\n",
    "                return 100\n",
    "            else:\n",
    "                return value\n",
    "        return [trunc(100 * random.normalvariate(0.6, 0.2))\n",
    "                for x in range(0, 100)]\n",
    "        \n",
    "    def _get_students(self):\n",
    "        \"\"\"Create the initail student list\"\"\"\n",
    "        with open(\"names_male.txt\", 'r') as f:\n",
    "            males = [name.split(' ')[0] for name in f.readlines()] \n",
    "        with open(\"names_female.txt\", 'r') as f:\n",
    "            females = [name.split(' ')[0] for name in f.readlines()]\n",
    "        \n",
    "        scores = self._get_scores()\n",
    "\n",
    "        students = [{'Name': name,\n",
    "                    'Gender': 'Male',\n",
    "                    'Score': scores[k]} for k, name in enumerate(males)]\n",
    "\n",
    "        students += [{'Name': female,\n",
    "                     'Gender': 'Female',\n",
    "                     'Score': scores[k]} for k, female in enumerate(females)]\n",
    "        \n",
    "        shuffle(students)\n",
    "        return students\n",
    "        \n",
    "    def get_names(self):\n",
    "        return pd.Series([stu['Name'] for stu in self.students[0: self.limit]])\n",
    "    \n",
    "    def get_scores(self):\n",
    "        return pd.Series([stu['Score'] for stu in self.students[0: self.limit]])\n",
    "\n",
    "    def get_genders(self):\n",
    "        return pd.Series([stu['Gender'] for stu in self.students[0: self.limit]])\n",
    "    \n",
    "gen = Generator(100)\n",
    "results = pd.DataFrame({\"Name\": gen.get_names(),\n",
    "                        \"Score\": gen.get_scores(),\n",
    "                        \"Gender\": gen.get_genders()})\n",
    "results[:10]\n"
   ]
  },
  {
   "cell_type": "code",
   "execution_count": 119,
   "metadata": {},
   "outputs": [
    {
     "data": {
      "image/png": "[encoded data removed]",
      "text/plain": [
       "<Figure size 432x288 with 1 Axes>"
      ]
     },
     "metadata": {
      "needs_background": "light"
     },
     "output_type": "display_data"
    }
   ],
   "source": [
    "fig, ax = plt.subplots()\n",
    "ax.hist(results['Score'])\n",
    "plt.title(\"School results\")\n",
    "plt.xlabel(\"Percentage\")\n",
    "plt.ylabel(\"Count\")\n",
    "plt.grid(True)\n"
   ]
  },
  {
   "cell_type": "code",
   "execution_count": 89,
   "metadata": {},
   "outputs": [],
   "source": [
    "city_names = pd.Series(['San Francisco', 'San Jose', 'Sacramento'])\n",
    "population = pd.Series([852469, 1015785, 485199])\n",
    "cities = pd.DataFrame({ 'City name': city_names, 'Population': population })\n",
    "cities['Area square miles'] = pd.Series([46.87, 176.53, 97.92])\n",
    "cities['Population density'] = cities['Population'] / cities['Area square miles']"
   ]
  },
  {
   "cell_type": "code",
   "execution_count": 90,
   "metadata": {},
   "outputs": [
    {
     "data": {
      "text/plain": [
       "0    False\n",
       "1     True\n",
       "2    False\n",
       "dtype: bool"
      ]
     },
     "execution_count": 90,
     "metadata": {},
     "output_type": "execute_result"
    }
   ],
   "source": [
    "cities['City name'].apply(lambda c: c.startswith('San')) & cities['Area square miles'].apply(lambda c: c > 50)"
   ]
  },
  {
   "cell_type": "code",
   "execution_count": 57,
   "metadata": {},
   "outputs": [
    {
     "data": {
      "text/html": [
       "<div>\n",
       "<style scoped>\n",
       "    .dataframe tbody tr th:only-of-type {\n",
       "        vertical-align: middle;\n",
       "    }\n",
       "\n",
       "    .dataframe tbody tr th {\n",
       "        vertical-align: top;\n",
       "    }\n",
       "\n",
       "    .dataframe thead th {\n",
       "        text-align: right;\n",
       "    }\n",
       "</style>\n",
       "<table border=\"1\" class=\"dataframe\">\n",
       "  <thead>\n",
       "    <tr style=\"text-align: right;\">\n",
       "      <th></th>\n",
       "      <th>City name</th>\n",
       "      <th>Population</th>\n",
       "      <th>Area square miles</th>\n",
       "      <th>Population density</th>\n",
       "    </tr>\n",
       "  </thead>\n",
       "  <tbody>\n",
       "    <tr>\n",
       "      <th>0</th>\n",
       "      <td>San Francisco</td>\n",
       "      <td>852469</td>\n",
       "      <td>46.87</td>\n",
       "      <td>18187.945381</td>\n",
       "    </tr>\n",
       "    <tr>\n",
       "      <th>2</th>\n",
       "      <td>San Jose</td>\n",
       "      <td>1015785</td>\n",
       "      <td>176.53</td>\n",
       "      <td>5754.177760</td>\n",
       "    </tr>\n",
       "    <tr>\n",
       "      <th>1</th>\n",
       "      <td>Sacramento</td>\n",
       "      <td>485199</td>\n",
       "      <td>97.92</td>\n",
       "      <td>4955.055147</td>\n",
       "    </tr>\n",
       "  </tbody>\n",
       "</table>\n",
       "</div>"
      ],
      "text/plain": [
       "       City name  Population  Area square miles  Population density\n",
       "0  San Francisco      852469              46.87        18187.945381\n",
       "2       San Jose     1015785             176.53         5754.177760\n",
       "1     Sacramento      485199              97.92         4955.055147"
      ]
     },
     "execution_count": 57,
     "metadata": {},
     "output_type": "execute_result"
    }
   ],
   "source": [
    "cities.reindex(np.random.permutation(cities.index))\n",
    "cities"
   ]
  },
  {
   "cell_type": "code",
   "execution_count": null,
   "metadata": {},
   "outputs": [],
   "source": []
  },
  {
   "cell_type": "code",
   "execution_count": null,
   "metadata": {},
   "outputs": [],
   "source": []
  }
 ],
 "metadata": {
  "kernelspec": {
   "display_name": "Python 3",
   "language": "python",
   "name": "python3"
  },
  "language_info": {
   "codemirror_mode": {
    "name": "ipython",
    "version": 2
   },
   "file_extension": ".py",
   "mimetype": "text/x-python",
   "name": "python",
   "nbconvert_exporter": "python",
   "pygments_lexer": "ipython2",
   "version": "2.7.12"
  },
  "toc": {
   "base_numbering": 1,
   "nav_menu": {},
   "number_sections": true,
   "sideBar": true,
   "skip_h1_title": false,
   "title_cell": "Table of Contents",
   "title_sidebar": "Contents",
   "toc_cell": false,
   "toc_position": {},
   "toc_section_display": true,
   "toc_window_display": false
  }
 },
 "nbformat": 4,
 "nbformat_minor": 2
}
