{
 "cells": [
  {
   "cell_type": "markdown",
   "metadata": {},
   "source": [
    "# Professional Profile\n",
    "This document contains the professional profile of Richard Larkin.\n",
    "<img src=\"http://zenkey.sourceforge.net/pin.gif\" align=\"right\" width=\"32\" height=\"32\" />"
   ]
  },
  {
   "cell_type": "markdown",
   "metadata": {},
   "source": [
    "# Summary\n",
    "\n",
    "As a mathematician by training, developing Education Maths software brought together two of my passions: mathematics and computers. After joining my current company (CAMI Education) in 1996, I have developed Maths, Reading, Perceptual Skills, Reporting and many other software programs, taking the systems from DOS, to Windows and finally to Windows/Linux/Android/iOS/MacOSX. I Joined Unisa in 2002 and obtained my Honours in Mathematics and Computer Science in 2010, obtaining distinctions in 5 of my 10 final year modules.\n",
    "\n",
    "After building a suite on Windows-based Visual Basic 6 applications, we faced the task on internationalizing these apps to support Mandarin, Finnish, Gujarati and Afrikaans as well as other languages. This required building and deploying a unicode capable GUI for Visual Basic to overcome the limitations of VB’s unicode support, as well as adding improved visuals via full anti-aliased graphics.\n",
    "\n",
    "The announcement of Visual Basic’s end-of-life prompted my exploration of Python, cross platform toolkits and web-based frameworks. The discovery of Kivy led to my renewed appreciation of native applications, cross-platform development, OpenGL and multi-touch user interfaces. This is where my main interest currently lies.\n",
    "\n",
    "Using the Kivy framework, we now distribute a Windows, Android and iOS application using a single code base. After building various applications using Kivy and contributing back to the project, I joined the organization as a core developer in 2012. Since then, I spend much of my spare time working on this Open Source project via Github with a team of international developers, adding features, reviewing pull requests and discussing future changes and directions with the team.\n",
    "\n",
    "In his spare time, Richard enjoys playing with his son, building origami, dancing, playing guitar and riding his bicycle."
   ]
  },
  {
   "cell_type": "markdown",
   "metadata": {},
   "source": [
    "# Current Duties\n",
    "\n",
    "* Design, development and deployment of an Android, iOS and Windows-based Educational application (using Python/Kivy).\n",
    "* Design, development and deployment a suite of Visual Basic 6 Education applications and libraries.\n",
    "* Design, development and deployment of a Web-based assessment tool using Python and Web2py, MSSQL and Apache.\n",
    "* Configuring, deploying and maintaining  various virtualized servers including:\n",
    "  * Windows File Servers\n",
    "  * Linux Sambda servers\n",
    "  * Linux Web Hosts (both PHP ad Python-based web server)\n",
    "  * Linux firewalls and proxy servers\n",
    "* Support of all of the afore-mentioned products and servers.\n",
    "* Technical support and maintenance of the internal IT infrastructure, including the configuration, installation and maintenance of Windows and Microsoft Office products."
   ]
  },
  {
   "cell_type": "markdown",
   "metadata": {},
   "source": [
    "# Skills Profile\n",
    "\n",
    "Skills are listed in decreasing order of expertise.\n",
    "\n",
    "| *Domain* | *Skills* |\n",
    "| ------ | -------|\n",
    "|Programming languages| Python, Visual Basic 6, ASP, Java, Javascript, HTML/CSS, Xojo (RealBASIC), Objective C|\n",
    "|Scripting| Python, Wise, AutoIT, Nullsoft Installer, Bash|\n",
    "| Databases | MySQL, MSSQL, Access, SQLite|\n",
    "|Frameworks | Kivy, Windows 32/MFC, QT, GTK, wxWidgets, Web2Py, vbRichClient, Cairo, Jupyter, Django, Flask,  jQuery|\n",
    "| Virtualization | VirtualBox, VMWare, VirtualPC, Docker |\n",
    "|Version control|Git, Subversion Trac|\n",
    "| Operating systems | Windows, Linux, MacOS, Android, iOS, ReactOS, BSD|\n"
   ]
  },
  {
   "cell_type": "markdown",
   "metadata": {},
   "source": [
    "# Qualifications"
   ]
  },
  {
   "cell_type": "code",
   "execution_count": null,
   "metadata": {},
   "outputs": [],
   "source": []
  }
 ],
 "metadata": {
  "kernelspec": {
   "display_name": "Python 3",
   "language": "python",
   "name": "python3"
  },
  "language_info": {
   "codemirror_mode": {
    "name": "ipython",
    "version": 2
   },
   "file_extension": ".py",
   "mimetype": "text/x-python",
   "name": "python",
   "nbconvert_exporter": "python",
   "pygments_lexer": "ipython2",
   "version": "2.7.12"
  },
  "toc": {
   "base_numbering": 1,
   "nav_menu": {},
   "number_sections": true,
   "sideBar": true,
   "skip_h1_title": false,
   "title_cell": "Table of Contents",
   "title_sidebar": "Contents",
   "toc_cell": false,
   "toc_position": {},
   "toc_section_display": true,
   "toc_window_display": false
  }
 },
 "nbformat": 4,
 "nbformat_minor": 2
}
