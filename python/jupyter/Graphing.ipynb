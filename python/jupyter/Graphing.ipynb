{
 "cells": [
  {
   "cell_type": "code",
   "execution_count": null,
   "metadata": {},
   "outputs": [],
   "source": [
    "from ipywidgets import widgets\n",
    "from IPython.display import display\n",
    "\n",
    "def handle_click(sender):\n",
    "    print(\"I have been clicked by {0}\".format(sender))\n",
    "    outText.value = outText.value + \"1\"\n",
    "\n",
    "button = widgets.Button(description=\"Click me\")\n",
    "button.on_click(handle_click)\n",
    "\n",
    "display(button)\n"
   ]
  },
  {
   "cell_type": "code",
   "execution_count": null,
   "metadata": {},
   "outputs": [],
   "source": [
    "!sudo pip install matplotlib"
   ]
  },
  {
   "cell_type": "code",
   "execution_count": null,
   "metadata": {},
   "outputs": [],
   "source": [
    "outText = widgets.Label(color=\"#FFAA88\") # widgets.Text()\n",
    "outText"
   ]
  },
  {
   "cell_type": "code",
   "execution_count": 72,
   "metadata": {},
   "outputs": [
    {
     "data": {
      "image/png": "[encoded data removed]",
      "text/plain": [
       "<Figure size 432x288 with 1 Axes>"
      ]
     },
     "metadata": {},
     "output_type": "display_data"
    }
   ],
   "source": [
    "import matplotlib.pyplot as plt\n",
    "plt.plot([1, 2, 3, 4])\n",
    "plt.ylabel('some numbers')\n",
    "plt.axis([-1, 5, 0, 5]) # [xmin, xmax, ymin, ymax] \n",
    "ax = plt.gca()\n",
    "ax.set_facecolor((0.9, 0.9, 0.9))\n",
    "plt.show()"
   ]
  },
  {
   "cell_type": "code",
   "execution_count": 2,
   "metadata": {
    "scrolled": false
   },
   "outputs": [
    {
     "data": {
      "application/vnd.jupyter.widget-view+json": {
       "model_id": "351f95971df540638cce74646103be3b",
       "version_major": 2,
       "version_minor": 0
      },
      "text/plain": [
       "interactive(children=(IntSlider(value=1, description='a', max=3, min=-3), IntSlider(value=1, description='b', …"
      ]
     },
     "metadata": {},
     "output_type": "display_data"
    }
   ],
   "source": [
    "import matplotlib.pyplot as plt\n",
    "import numpy as np\n",
    "from ipywidgets import interact\n",
    "from ipywidgets import widgets\n",
    "# from IPython.display import clear_output\n",
    "\n",
    "         \n",
    "@interact(a=widgets.IntSlider(min=-3,max=3,step=1,value=1),\n",
    "          b=widgets.IntSlider(min=-10,max=10,step=1,value=1),\n",
    "          c=widgets.IntSlider(min=-10,max=10,step=1,value=1))\n",
    "def draw_porabola(a, b, c):\n",
    "    plt.title(\"Graph of the parabola of ${0}x^2 + {1}x + {2}$\".format(\n",
    "        \"\" if a == 1 else str(a),\n",
    "        \"\" if b == 1 else str(b), c,))\n",
    "    plt.ylabel('y')\n",
    "    plt.xlabel('x')\n",
    "    plt.grid(True)\n",
    "\n",
    "    # create 1000 equally spaced points between -10 and 10\n",
    "    x = np.linspace(-10, 10, 1000)\n",
    "\n",
    "    # calculate the y value for each element of the x vector\n",
    "    y = a*x**2 + b*x + c  \n",
    "\n",
    "    # fig, ax = plt.subplots()\n",
    "    # ax.plot(x, y)\n",
    "    plt.plot(x, y)\n",
    "    plt.show()\n"
   ]
  },
  {
   "cell_type": "code",
   "execution_count": null,
   "metadata": {},
   "outputs": [],
   "source": []
  },
  {
   "cell_type": "code",
   "execution_count": null,
   "metadata": {},
   "outputs": [],
   "source": []
  }
 ],
 "metadata": {
  "kernelspec": {
   "display_name": "Python 3",
   "language": "python",
   "name": "python3"
  },
  "language_info": {
   "codemirror_mode": {
    "name": "ipython",
    "version": 3
   },
   "file_extension": ".py",
   "mimetype": "text/x-python",
   "name": "python",
   "nbconvert_exporter": "python",
   "pygments_lexer": "ipython3",
   "version": "3.5.2"
  }
 },
 "nbformat": 4,
 "nbformat_minor": 2
}
