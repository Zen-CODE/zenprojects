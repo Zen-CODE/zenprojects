{
 "cells": [
  {
   "cell_type": "markdown",
   "metadata": {},
   "source": [
    "# Stuart\n",
    "<img src=\"Stuart/20180224_161336.jpg\" align=\"right\" width=\"300\" height=\"150\" />\n",
    "\n",
    "This is the page for the awesome Stuart Larkin!\n"
   ]
  },
  {
   "cell_type": "markdown",
   "metadata": {},
   "source": [
    "## Dinners\n",
    "\n",
    "My dinners will be as follow:\n",
    "\n",
    "|Day|Dinner|Altertnative|\n",
    "|-|-|-|\n",
    "|Sunday|Pasta||\n",
    "|Monday|Avo on Toast||\n",
    "|Tuesday|At Bens and Skye's|Viennas|\n",
    "|Wednesday|Meatballs||\n",
    "|Thursday|At mom's||\n",
    "|Friday|Pizza||\n",
    "|Saturday|Chicken pops||\n",
    "  "
   ]
  },
  {
   "cell_type": "code",
   "execution_count": null,
   "metadata": {},
   "outputs": [],
   "source": []
  }
 ],
 "metadata": {
  "kernelspec": {
   "display_name": "Python 3",
   "language": "python",
   "name": "python3"
  },
  "language_info": {
   "codemirror_mode": {
    "name": "ipython",
    "version": 3
   },
   "file_extension": ".py",
   "mimetype": "text/x-python",
   "name": "python",
   "nbconvert_exporter": "python",
   "pygments_lexer": "ipython3",
   "version": "3.6.6"
  },
  "toc": {
   "base_numbering": 1,
   "nav_menu": {},
   "number_sections": false,
   "sideBar": true,
   "skip_h1_title": false,
   "title_cell": "Table of Contents",
   "title_sidebar": "Contents",
   "toc_cell": false,
   "toc_position": {
    "height": "calc(100% - 180px)",
    "left": "10px",
    "top": "150px",
    "width": "254.188px"
   },
   "toc_section_display": true,
   "toc_window_display": false
  }
 },
 "nbformat": 4,
 "nbformat_minor": 2
}
