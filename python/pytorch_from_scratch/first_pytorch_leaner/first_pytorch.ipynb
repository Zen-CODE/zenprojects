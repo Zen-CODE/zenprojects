{
 "cells": [
  {
   "cell_type": "markdown",
   "id": "a14640db-986c-4044-9235-d2cd0e6befc9",
   "metadata": {},
   "source": [
    "# [First PyTorch Model](https://www.youtube.com/watch?v=QPCFnbonpNQ)"
   ]
  },
  {
   "cell_type": "code",
   "execution_count": null,
   "id": "c80eb889-1f3d-4b7c-9cbf-e4a3be0db23b",
   "metadata": {},
   "outputs": [],
   "source": [
    "# Install dependencies\n",
    "!pip install torch\n",
    "!pip install numpy\n",
    "!pip install matplotlib"
   ]
  },
  {
   "cell_type": "code",
   "execution_count": null,
   "id": "05c53972-fcab-4496-8f61-e7707ca0708d",
   "metadata": {},
   "outputs": [],
   "source": [
    "import torch\n",
    "import torch.nn as nn\n",
    "import torch.optim as optim\n",
    "import numpy as np\n",
    "import matplotlib.pyplot as plt"
   ]
  },
  {
   "cell_type": "code",
   "execution_count": null,
   "id": "72bb8ce9-8ba7-4bfd-9994-1b30aba76e20",
   "metadata": {},
   "outputs": [],
   "source": [
    "X = np.array([x for x in range(100)])\n",
    "# print(\"original X = \", X)\n",
    "X = X.reshape(-1, 1)\n",
    "# print(\"later X = \", X)\n",
    "y = 46 + 2*X.flatten()"
   ]
  },
  {
   "cell_type": "code",
   "execution_count": null,
   "id": "ede5df7c-c6ab-47da-ac2b-4d01a2864dec",
   "metadata": {},
   "outputs": [],
   "source": [
    "plt.scatter(X, y, label='Initial data')\n",
    "plt.title('Pre PyTorch')\n",
    "plt.xlabel('x')\n",
    "plt.ylabel('y')\n",
    "plt.legend()\n",
    "plt.show()"
   ]
  },
  {
   "cell_type": "code",
   "execution_count": null,
   "id": "1b6422ba-ac50-41ce-b32c-ca63113ec273",
   "metadata": {},
   "outputs": [],
   "source": [
    "# Normalise\n",
    "x_mean, x_std = X.mean(), X.std()\n",
    "X_normalized = (X - x_mean) / x_std\n",
    "X_tensor = torch.tensor(X_normalized, dtype=torch.float32)\n",
    "print(X_tensor.shape)"
   ]
  },
  {
   "cell_type": "code",
   "execution_count": null,
   "id": "26e86b89-b9a3-420f-a98a-d3675080bf34",
   "metadata": {},
   "outputs": [],
   "source": [
    "# Normalise\n",
    "y_mean, y_std = y.mean(), y.std()\n",
    "y_normalized = (y - y_mean) / y_std\n",
    "y_tensor = torch.tensor(y_normalized, dtype=torch.float32)\n",
    "print(X_tensor.shape)"
   ]
  },
  {
   "cell_type": "code",
   "execution_count": null,
   "id": "8bb56cf7-f831-4dcb-a703-4f001d514ef1",
   "metadata": {},
   "outputs": [],
   "source": [
    "class LinearRegressionModel(nn.Module):\n",
    "    def __init__(self, in_features, out_features):\n",
    "        super().__init__()\n",
    "        self.linear = nn.Linear(in_features, out_features)\n",
    "\n",
    "    def forward(self, x):\n",
    "        return self.linear(x).squeeze(1)\n"
   ]
  },
  {
   "cell_type": "code",
   "execution_count": null,
   "id": "11755cb9-5050-4f49-94e4-518abba21e0f",
   "metadata": {},
   "outputs": [],
   "source": [
    "in_features = 1\n",
    "out_features = 1\n",
    "\n",
    "model = LinearRegressionModel(in_features, out_features)"
   ]
  },
  {
   "cell_type": "code",
   "execution_count": null,
   "id": "41421e9e",
   "metadata": {},
   "outputs": [],
   "source": [
    "criterion = nn.MSELoss()\n",
    "optimizer = optim.SGD(model.parameters(), lr=0.1)\n",
    "num_epochs = 10"
   ]
  },
  {
   "cell_type": "code",
   "execution_count": null,
   "id": "61f24a95",
   "metadata": {},
   "outputs": [],
   "source": [
    "for epoch in range(num_epochs):\n",
    "    # forward pass\n",
    "    outputs = model(X_tensor)\n",
    "\n",
    "    # claculate loss\n",
    "    loss = criterion(outputs, y_tensor)\n",
    "\n",
    "    # backwards pass and optimization\n",
    "    optimizer.zero_grad()\n",
    "    loss.backward()\n",
    "    optimizer.step()\n",
    "\n",
    "    print(f\"Epoch [{epoch+1}/{num_epochs}], Loss: {loss.item():.4f}\")\n"
   ]
  },
  {
   "cell_type": "code",
   "execution_count": null,
   "id": "f5d9c3bb",
   "metadata": {},
   "outputs": [],
   "source": [
    "new_x = 121\n",
    "new_x_normalized = (new_x - x_mean) / x_std\n",
    "new_x_tensor = torch.tensor(new_x_normalized, dtype=torch.float32).view(1, -1)\n",
    "\n",
    "model.eval()\n",
    "with torch.no_grad():\n",
    "    prediction_normalized = model(new_x_tensor)\n",
    "\n",
    "prediction_denomalized = prediction_normalized.item() * y_std + y_mean  # Denormalize\n",
    "print(f\"Prediction for {new_x}: {prediction_denomalized}\")\n"
   ]
  },
  {
   "cell_type": "code",
   "execution_count": null,
   "id": "6de4ef16",
   "metadata": {},
   "outputs": [],
   "source": [
    "plt.scatter(X, y, label='Predicated data')\n",
    "\n",
    "fit_line = model(X_tensor).detach().numpy() * y_std + y_mean\n",
    "plt.plot(X, fit_line, color='red', label='Fitted line')\n",
    "\n",
    "plt.legend()\n",
    "plt.title('After PyTorch')\n",
    "plt.xlabel('x')\n",
    "plt.ylabel('y')\n",
    "\n",
    "plt.show()"
   ]
  }
 ],
 "metadata": {
  "kernelspec": {
   "display_name": "pytorch_3.12.8",
   "language": "python",
   "name": "python3"
  },
  "language_info": {
   "codemirror_mode": {
    "name": "ipython",
    "version": 3
   },
   "file_extension": ".py",
   "mimetype": "text/x-python",
   "name": "python",
   "nbconvert_exporter": "python",
   "pygments_lexer": "ipython3",
   "version": "3.12.8"
  }
 },
 "nbformat": 4,
 "nbformat_minor": 5
}
